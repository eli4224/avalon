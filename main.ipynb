{
 "cells": [
  {
   "cell_type": "code",
   "execution_count": 8,
   "metadata": {},
   "outputs": [],
   "source": [
    "import numpy as np\n",
    "import pandas as pd\n",
    "\n",
    "from dataclasses import dataclass\n",
    "\n",
    "import torch\n",
    "from torch import nn\n",
    "\n",
    "from tqdm.notebook import tqdm\n"
   ]
  },
  {
   "cell_type": "code",
   "execution_count": 1,
   "metadata": {},
   "outputs": [
    {
     "ename": "SyntaxError",
     "evalue": "invalid syntax (2012405719.py, line 1)",
     "output_type": "error",
     "traceback": [
      "\u001b[0;36m  Input \u001b[0;32mIn [1]\u001b[0;36m\u001b[0m\n\u001b[0;31m    def get_who -> nn.Module\u001b[0m\n\u001b[0m                ^\u001b[0m\n\u001b[0;31mSyntaxError\u001b[0m\u001b[0;31m:\u001b[0m invalid syntax\n"
     ]
    }
   ],
   "source": [
    "\n",
    "def get_who -> nn.Module\n",
    "\n",
    "def get_comm -> nn.Module\n",
    "\n",
    "def get_miss -> nn.Module\n",
    "\n",
    "def get_vote -> nn.Module\n",
    "\n",
    "def get_succ -> nn.Module\n",
    "\n"
   ]
  },
  {
   "cell_type": "code",
   "execution_count": null,
   "metadata": {
    "pycharm": {
     "name": "#%%\n"
    }
   },
   "outputs": [],
   "source": [
    "@dataclass\n",
    "class Agent:\n",
    "    "
   ]
  },
  {
   "cell_type": "code",
   "execution_count": 10,
   "metadata": {
    "pycharm": {
     "name": "#%%\n"
    }
   },
   "outputs": [],
   "source": [
    "@dataclass\n",
    "class AvalonEnv():\n",
    "    def __init__(self):\n",
    "        self.nm = [2,3,2,3,3]\n",
    "        self.tasks = ['comm', 'who', 'miss', 'vote', 'succ']\n",
    "        self.reset()\n",
    "    \n",
    "    def reset(self):\n",
    "        self.mi = 0\n",
    "        self.ri = 0\n",
    "        self.li = 0\n",
    "        self.hist = np.zeros((2, 25, 20))\n",
    "        self.every = np.random.shuffle([0,0,0,1,1])\n",
    "        self.who = np.random.rand((5, 5))\n",
    "        self.task = 'comm'\n",
    "        return self.query()\n",
    "    \n",
    "    def get_observation(self):\n",
    "        if self.task == 'comm':\n",
    "            return \n",
    "        elif self.task == 'who':\n",
    "            pass\n",
    "        elif self.task == 'miss':\n",
    "            pass\n",
    "        elif self.task == 'vote':\n",
    "            pass\n",
    "        elif self.task == 'succ':\n",
    "            pass\n",
    "        \n",
    "    \n",
    "    def query(self):\n",
    "        \n",
    "        \n",
    "        return self.mi, self.ri, self.li, self.task\n",
    "    \n",
    "    def step(self, li: int, miss: list, vote: list, succ: list):\n",
    "        return hist"
   ]
  },
  {
   "cell_type": "code",
   "execution_count": null,
   "metadata": {},
   "outputs": [],
   "source": [
    "@dataclass\n",
    "class AvalonEngine:\n",
    "    max_steps: int\n",
    "    env: AvalonEnv\n",
    "    train_episodes: int\n",
    "    max_epoch: int\n",
    "    agents: Any\n",
    "    \n",
    "    def run():\n",
    "        for epoch in tqdm.tqdm(range(self.max_epoch)):\n",
    "            for model in self.TRAINABLE_MODELS:\n",
    "                for episode in range(self.train_episodes):\n",
    "                    mi, ri, li, task = env.reset()\n",
    "                    \n",
    "                    while not done:\n",
    "                        mi, ri, task = env.query()\n",
    "                        \n",
    "                        \n",
    "                        next_ob, reward, done, info = self.env.step(action)\n",
    "                        \n",
    "                        if task == 'comm':\n",
    "                            pass\n",
    "                        elif task == 'who':\n",
    "                            pass\n",
    "                        elif task == 'miss':\n",
    "                            pass\n",
    "                        elif task == 'vote':\n",
    "                            pass\n",
    "                        else:\n",
    "                            pass\n",
    "    \n",
    "    def main_loop():\n",
    "    \n",
    "        for t in tqdm(range(self.max_steps), desc='Step'):\n",
    "            \n",
    "            mi, ri, 'miss' = env.query()\n",
    "            \n",
    "            "
   ]
  }
 ],
 "metadata": {
  "kernelspec": {
   "display_name": "Python 3 (ipykernel)",
   "language": "python",
   "name": "python3"
  },
  "language_info": {
   "codemirror_mode": {
    "name": "ipython",
    "version": 3
   },
   "file_extension": ".py",
   "mimetype": "text/x-python",
   "name": "python",
   "nbconvert_exporter": "python",
   "pygments_lexer": "ipython3",
   "version": "3.8.8"
  }
 },
 "nbformat": 4,
 "nbformat_minor": 1
}
