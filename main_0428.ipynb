{
 "cells": [
  {
   "cell_type": "markdown",
   "metadata": {},
   "source": [
    "# Import dependencies"
   ]
  },
  {
   "cell_type": "code",
   "execution_count": 1,
   "metadata": {},
   "outputs": [],
   "source": [
    "from abc import ABC, abstractmethod\n",
    "\n",
    "import random\n",
    "import math\n",
    "import numpy as np\n",
    "import pandas as pd\n",
    "import matplotlib\n",
    "import matplotlib.pyplot as plt\n",
    "\n",
    "from dataclasses import dataclass\n",
    "\n",
    "import torch\n",
    "from torch import nn\n",
    "from torch.distributions import Categorical\n",
    "import torch.nn.functional as F\n",
    "\n",
    "import scipy\n",
    "import scipy.ndimage\n",
    "\n",
    "from tqdm.notebook import tqdm\n",
    "import easyrl.models.diag_gaussian_policy as DiagGaussian"
   ]
  },
  {
   "cell_type": "code",
   "execution_count": 2,
   "metadata": {},
   "outputs": [],
   "source": [
    "def set_random_seed(seed):\n",
    "    np.random.seed(seed)\n",
    "    random.seed(seed)\n",
    "    torch.manual_seed(seed)\n",
    "\n",
    "# set random seed\n",
    "seed = 0\n",
    "set_random_seed(seed=seed)"
   ]
  },
  {
   "cell_type": "markdown",
   "metadata": {},
   "source": [
    "# Set default parameters"
   ]
  },
  {
   "cell_type": "code",
   "execution_count": 3,
   "metadata": {},
   "outputs": [],
   "source": [
    "def getDefaultParams():\n",
    "    # here goes the default parameters for the agent\n",
    "    config = dict(\n",
    "        # env=env, the agent does not need to ahve access to the env because there is an engine\n",
    "        learning_rate=0.00025,\n",
    "        gamma=0.99,\n",
    "        memory_size=200000,\n",
    "        initial_epsilon=1.0,\n",
    "        min_epsilon=0.1,\n",
    "        max_epsilon_decay_steps=150000,\n",
    "        warmup_steps=500,\n",
    "        target_update_freq=2000,\n",
    "        batch_size=32,\n",
    "        device=None,\n",
    "        disable_target_net=False,\n",
    "        enable_double_q=False,\n",
    "        use_gae=False,\n",
    "        train_ac_iters=5,\n",
    "        target_kl=0.01,\n",
    "        clip_ratio=0.2,\n",
    "        entropy_coef=0.01,\n",
    "        use_critic=True\n",
    "    )\n",
    "    return config"
   ]
  },
  {
   "cell_type": "markdown",
   "metadata": {},
   "source": [
    "# Create categorical policy network"
   ]
  },
  {
   "cell_type": "code",
   "execution_count": 4,
   "metadata": {},
   "outputs": [],
   "source": [
    "# Stolen from easyrl Categorical policy policy with some modifications\n",
    "class CategoricalPolicy(nn.Module):\n",
    "    def __init__(self,\n",
    "                 body_net,\n",
    "                 action_dim,\n",
    "                 in_features=None,\n",
    "                 ):\n",
    "        super().__init__()\n",
    "        self.body = body_net\n",
    "        if in_features is None:\n",
    "            for i in reversed(range(len(self.body.fcs))):\n",
    "                layer = self.body.fcs[i]\n",
    "                if hasattr(layer, 'out_features'):\n",
    "                    in_features = layer.out_features\n",
    "                    break\n",
    "\n",
    "        self.head = nn.Sequential(nn.Linear(in_features, action_dim), nn.Softmax())\n",
    "\n",
    "    def forward(self, x=None, body_x=None, **kwargs):\n",
    "        if x is None and body_x is None:\n",
    "            raise ValueError('One of [x, body_x] should be provided!')\n",
    "        if body_x is None:\n",
    "            body_x = self.body(x, **kwargs)\n",
    "        if isinstance(body_x, tuple):\n",
    "            pi = self.head(body_x[0])\n",
    "        else:\n",
    "            pi = self.head(body_x)\n",
    "        action_dist = Categorical(probs=pi)\n",
    "        return action_dist, body_x"
   ]
  },
  {
   "cell_type": "markdown",
   "metadata": {},
   "source": [
    "# Create backbone NN structure"
   ]
  },
  {
   "cell_type": "code",
   "execution_count": 5,
   "metadata": {},
   "outputs": [],
   "source": [
    "def init_params(m):\n",
    "    classname = m.__class__.__name__\n",
    "    if classname.find(\"Linear\") != -1:\n",
    "        m.weight.data.normal_(0, 1)\n",
    "        m.weight.data *= 1 / torch.sqrt(m.weight.data.pow(2).sum(1, keepdim=True))\n",
    "        if m.bias is not None:\n",
    "            m.bias.data.fill_(0)\n",
    "\n",
    "class WhoNetwork(nn.Module):\n",
    "    def __init__(self, input_dim, action_dim):\n",
    "        super().__init__()\n",
    "        #### A simple network that takes\n",
    "        #### as input the history, and outputs the \n",
    "        #### distribution parameters.\n",
    "        self.fcs = nn.Sequential(\n",
    "            nn.Linear(input_dim, 256),\n",
    "            nn.ReLU(),\n",
    "            nn.Linear(256, 64),\n",
    "            nn.ReLU(),\n",
    "            nn.Linear(64, 32),\n",
    "            nn.ReLU(),\n",
    "        )\n",
    "        self.out_layer = nn.Sequential(nn.Linear(32, action_dim), nn.Sigmoid())\n",
    "            \n",
    "    def forward(self, ob):\n",
    "        x = self.fcs(ob)\n",
    "        preds = self.out_layer(x)\n",
    "        return preds\n",
    "            \n",
    "class NNetwork(nn.Module):\n",
    "    def __init__(self, input_dim, action_dim, final_activation=None, use_critic=False):\n",
    "        self.final_activation = final_activation\n",
    "        self.use_critic = use_critic\n",
    "        super().__init__()\n",
    "        #### A simple network that takes\n",
    "        #### as input the history, and outputs the \n",
    "        #### distribution parameters.\n",
    "        self.fcs = nn.Sequential(\n",
    "            nn.Linear(input_dim, 256),\n",
    "            nn.ReLU(),\n",
    "            nn.Linear(256, 64),\n",
    "            nn.ReLU(),\n",
    "            nn.Linear(64, 32),\n",
    "            nn.ReLU(),\n",
    "            nn.Linear(32, 64),\n",
    "            nn.ReLU())\n",
    "        self.out_layer = nn.Sequential(nn.Linear(64, action_dim))\n",
    "        \n",
    "        # Define critic's model\n",
    "        if self.use_critic:\n",
    "            self.critic = nn.Sequential(\n",
    "                nn.Linear(input_dim, 128),\n",
    "                nn.ReLU(),\n",
    "                nn.Linear(128, 32),\n",
    "                nn.Tanh(),\n",
    "                nn.Linear(32, 1)\n",
    "            )\n",
    "        \n",
    "        # Set initial weights and biases\n",
    "        self.apply(init_params)\n",
    "\n",
    "    def forward(self, ob):\n",
    "        mid_logits = self.fcs(ob)\n",
    "        logits = self.out_layer(mid_logits)\n",
    "        if self.final_activation is not None:\n",
    "            logits = self.final_activation(logits, dim=-1)\n",
    "        if self.use_critic:\n",
    "            return logits, self.critic(ob)\n",
    "        else:\n",
    "            return logits, None\n"
   ]
  },
  {
   "cell_type": "markdown",
   "metadata": {},
   "source": [
    "# Define game parameters and NN initialization"
   ]
  },
  {
   "cell_type": "code",
   "execution_count": 6,
   "metadata": {},
   "outputs": [],
   "source": [
    "RED_TEAM_ID = 1\n",
    "BLUE_TEAM_ID = 0\n",
    "NUM_PLAYERS = 5\n",
    "RED_PLAYERS = 2\n",
    "BLUE_PLAYERS = 3\n",
    "HIST_SHAPE = 2 * 25 * (3 * NUM_PLAYERS + 5)\n",
    "SELF_SHAPE = torch.tensor([5])\n",
    "COMM_SHAPE = 32  # Change freely\n",
    "WHO_SHAPE = NUM_PLAYERS\n",
    "VOTE_SHAPE =torch.tensor([NUM_PLAYERS])\n",
    "\n",
    "assert RED_PLAYERS + BLUE_PLAYERS == NUM_PLAYERS\n",
    "\n",
    "def get_who():\n",
    "    return WhoNetwork(SELF_SHAPE + HIST_SHAPE + NUM_PLAYERS*COMM_SHAPE, WHO_SHAPE)\n",
    "\n",
    "def get_comm(use_critic=False):\n",
    "    return DiagGaussian.DiagGaussianPolicy(NNetwork(SELF_SHAPE + HIST_SHAPE + WHO_SHAPE, torch.tensor([64]), use_critic=use_critic), COMM_SHAPE, in_features=torch.tensor([64]))\n",
    "\n",
    "def get_miss(mission_shapes = (10,10), use_critic=False):\n",
    "    model = NNetwork(SELF_SHAPE + WHO_SHAPE + HIST_SHAPE, 64, use_critic=use_critic)\n",
    "    return [CategoricalPolicy(model, mish, 64) for mish in mission_shapes]\n",
    "\n",
    "def get_vote(use_critic=False):\n",
    "    return CategoricalPolicy(NNetwork(HIST_SHAPE + SELF_SHAPE + WHO_SHAPE, 128, use_critic=use_critic), 2, 128)\n",
    "\n",
    "def get_succ(use_critic=False):\n",
    "    return CategoricalPolicy(NNetwork(HIST_SHAPE + SELF_SHAPE + WHO_SHAPE, 128,use_critic=use_critic), 2, 128)\n",
    "\n",
    "@torch.no_grad()\n",
    "def miss_players(miss):\n",
    "    # 0: 0,1\n",
    "    # 1: 0,2\n",
    "    # 2: 0,3\n",
    "    # 3: 0,4\n",
    "    # 4: 1,2\n",
    "    # 5: 1,3\n",
    "    # 6: 1,4\n",
    "    # 7: 2,3\n",
    "    # 8: 2,4\n",
    "    # 9: 3,4\n",
    "    miss_cat = torch.zeros(NUM_PLAYERS)\n",
    "    if miss<4:\n",
    "        miss_cat[0] = 1\n",
    "        miss_cat[miss+1] = 1\n",
    "    elif miss<7:\n",
    "        miss_cat[1] = 1\n",
    "        miss_cat[miss-2] = 1\n",
    "    elif miss<9:\n",
    "        miss_cat[2] = 1\n",
    "        miss_cat[miss-4] = 1\n",
    "    else:\n",
    "        miss_cat[3] = 1\n",
    "        miss_cat[miss-5] = 1\n",
    "    return miss_cat"
   ]
  },
  {
   "cell_type": "markdown",
   "metadata": {},
   "source": [
    "# Agent class"
   ]
  },
  {
   "cell_type": "code",
   "execution_count": 7,
   "metadata": {
    "pycharm": {
     "name": "#%%\n"
    }
   },
   "outputs": [],
   "source": [
    "@dataclass\n",
    "class Agent(ABC):\n",
    "    \n",
    "    @abstractmethod\n",
    "    def comm():\n",
    "        pass\n",
    "\n",
    "    @abstractmethod\n",
    "    def who():\n",
    "        pass\n",
    "\n",
    "    @abstractmethod\n",
    "    def miss():\n",
    "        pass\n",
    "\n",
    "    @abstractmethod\n",
    "    def vote():\n",
    "        pass\n",
    "\n",
    "    @abstractmethod\n",
    "    def succ():\n",
    "        pass\n",
    "\n",
    "class RedAgent():\n",
    "\n",
    "    def __init__(self, lr, use_critic):\n",
    "        self.lr = lr\n",
    "        self.use_critic = use_critic\n",
    "\n",
    "        self.COMM = get_comm(use_critic = use_critic)\n",
    "#         self.who = (lambda *args : every)\n",
    "        mission_models = get_miss(use_critic = use_critic)\n",
    "        self.MISS = (lambda args : [mission_models[i](args) for i in range(2)])\n",
    "        self.VOTE = get_vote(use_critic = use_critic)\n",
    "        self.SUCC = get_succ(use_critic = use_critic)\n",
    "        \n",
    "        # Optimizers\n",
    "        self.COMM_opt = torch.optim.Adam(self.COMM.parameters(), lr=lr)\n",
    "        self.MISS_opt2 = torch.optim.Adam(mission_models[0].parameters(), lr=lr)\n",
    "        self.MISS_opt3 = torch.optim.Adam(mission_models[1].parameters(), lr=lr)\n",
    "        self.VOTE_opt = torch.optim.Adam(self.VOTE.parameters(), lr=lr)\n",
    "        self.SUCC_opt = torch.optim.Adam(self.SUCC.parameters(), lr=lr)\n",
    "\n",
    "class BlueAgent():\n",
    "    \n",
    "    def __init__(self, lrs, use_critic):\n",
    "        self.lrs = lrs\n",
    "        self.use_critic = use_critic\n",
    "\n",
    "        self.COMM = get_comm(use_critic=use_critic)\n",
    "        self.WHO = get_who()\n",
    "        mission_models = get_miss(use_critic=use_critic)\n",
    "        self.MISS = (lambda args : [mission_models[i](args) for i in range(2)])\n",
    "        self.VOTE = get_vote(use_critic=use_critic)\n",
    "#         self.succ = (lambda *args : torch.distributions.bernoulli.Bernoulli(1))\n",
    "        \n",
    "        # Optimizers\n",
    "        self.COMM_opt = torch.optim.Adam(self.COMM.parameters(), lr=lrs['COMM'])\n",
    "        self.WHO_opt = torch.optim.Adam(self.WHO.parameters(), lr=lrs['WHO'])\n",
    "        self.MISS_opt2 = torch.optim.Adam(mission_models[0].parameters(), lr=lrs['MISS2'])\n",
    "        self.MISS_opt3 = torch.optim.Adam(mission_models[1].parameters(), lr=lrs['MISS3'])\n",
    "        self.VOTE_opt = torch.optim.Adam(self.VOTE.parameters(), lr=lrs['VOTE'])\n",
    "    \n",
    "    "
   ]
  },
  {
   "cell_type": "code",
   "execution_count": 43,
   "metadata": {},
   "outputs": [],
   "source": [
    "# Baseline agents\n",
    "class ConstantDistribution():\n",
    "#   A \"distribution\" that always returns the same result when sampled\n",
    "\n",
    "    def __init__(self, values):\n",
    "#       Values must support element-wise comparison with ==\n",
    "        self.values = values\n",
    "    \n",
    "    def sample(self):\n",
    "        return self.values\n",
    "    \n",
    "    def log_prob(self, actions):\n",
    "        return self.values == actions\n",
    "\n",
    "class RedAgentBaseline():\n",
    "    # this red agent takes actions according to the following rules:\n",
    "    # COMM - outputs a random vector\n",
    "    # MISS - always randomly choose 1 red player and 1~2 blue players (according to how many players go on mission)\n",
    "    # VOTE - always vote yes if there are one or more red players on the mission, else no\n",
    "    # SUCC - always fail the mission\n",
    "\n",
    "    def __init__(self, use_critic, lr = 0.01):\n",
    "#         self.COMM = (lambda args: (ConstantDistribution(torch.rand((COMM_SHAPE))), None))\n",
    "        self.COMM = get_comm(use_critic = use_critic)\n",
    "        \n",
    "        # Optimizers\n",
    "        self.COMM_opt = None\n",
    "        self.MISS_opt2 = None\n",
    "        self.MISS_opt3 = None\n",
    "        self.VOTE_opt = None\n",
    "        self.SUCC_opt = None\n",
    "\n",
    "    def SUCC(self, obs):\n",
    "        return Categorical(probs=torch.Tensor([1])), None\n",
    "    \n",
    "    def VOTE(self, obs):\n",
    "        # obs = SELF_SHAPE + EVERY_SHAPE + (HIST_SHAPE) <- who goes on mission is here\n",
    "        # env.hist = torch.zeros((2, 25, 20))\n",
    "        every = obs[SELF_SHAPE:SELF_SHAPE+WHO_SHAPE]\n",
    "        hist = obs[SELF_SHAPE+WHO_SHAPE:]\n",
    "        hist = hist.reshape((2, 25, len(hist) // 50))\n",
    "        # find the LAST VALID mission combination\n",
    "        # -- hist[1, si, 5:10]\n",
    "        miss = hist[0, hist[1, :, 5].sum().long()-1, 5:10]\n",
    "        \n",
    "        probs = torch.Tensor([0, 1]) if (miss[every == RED_TEAM_ID].sum()).sum() > 0 else torch.Tensor([1, 0])\n",
    "        \n",
    "        return Categorical(probs=probs), None\n",
    "\n",
    "    def MISS(self, obs):\n",
    "        # obs = SELF_SHAPE + EVERY_SHAPE + HIST_SHAPE\n",
    "        every = obs[SELF_SHAPE:SELF_SHAPE+WHO_SHAPE]\n",
    "        # miss 2\n",
    "        misses = []\n",
    "        for num_pl_miss in [2, 3]:\n",
    "            seq = np.arange(math.comb(NUM_PLAYERS, num_pl_miss))\n",
    "            np.random.shuffle(seq)\n",
    "            for comb in seq:\n",
    "                miss = miss_players(comb) if num_pl_miss == 2 else 1 - miss_players(comb)\n",
    "                if (every[miss.numpy().astype(bool)] == RED_TEAM_ID).sum() == 1:\n",
    "                    break\n",
    "            assert (every[miss.numpy().astype(bool)] == RED_TEAM_ID).sum() == 1\n",
    "            misses.append(torch.Tensor([comb]))\n",
    "        \n",
    "        return (ConstantDistribution(misses[0]), None), \\\n",
    "                (ConstantDistribution(misses[1]), None)\n",
    "\n",
    "class BlueAgentBaseline():\n",
    "    # this blue agent has a PRETRAINED WHO NETWORK and takes actions according to the following rules:\n",
    "    # COMM - outputs a random vector\n",
    "    # MISS - always choose itself and 1~2 other players PREDICTED TO BE BLUE THE MOST\n",
    "    # VOTE - according to the 3 MOST POSSIBLE BLUE PLAYER,\n",
    "    #        vote yes if the mission consist of only blue players, else no\n",
    "\n",
    "    def __init__(self):\n",
    "#         self.COMM = lambda args: (ConstantDistribution(torch.rand((COMM_SHAPE))), None)\n",
    "        self.COMM = get_comm(use_critic = use_critic)\n",
    "        \n",
    "        self.COMM_opt = None\n",
    "        self.WHO_opt = None\n",
    "        self.MISS_opt2 = None\n",
    "        self.MISS_opt3 = None\n",
    "        self.VOTE_opt = None\n",
    "        \n",
    "        self.who_v = torch.zeros(NUM_PLAYERS)\n",
    "    \n",
    "    def VOTE(self, obs):\n",
    "        # obs = SELF_SHAPE + WHO_SHAPE + (HIST_SHAPE) <- who goes on mission is here\n",
    "        # env.hist = torch.zeros((2, 25, 20))\n",
    "        hist = obs[SELF_SHAPE+WHO_SHAPE:]\n",
    "        hist = hist.reshape((2, 25, len(hist) // 50))\n",
    "        # find the LAST VALID mission combination\n",
    "        # -- hist[1, si, 5:10]\n",
    "        miss = hist[0, hist[1, :, 5].sum().long()-1, 5:10]\n",
    "        \n",
    "        reds = np.argsort(self.who_v)[-RED_PLAYERS:]\n",
    "        \n",
    "        yes = int(miss[reds].sum()==0)\n",
    "        \n",
    "        return Categorical(probs=torch.Tensor([1-yes, yes])), None\n",
    "\n",
    "    def MISS(self, obs):        \n",
    "        blues = np.argsort(self.who_v)[:BLUE_PLAYERS]\n",
    "        \n",
    "        miss2_v = torch.zeros(NUM_PLAYERS)\n",
    "        miss3_v = torch.zeros(NUM_PLAYERS)\n",
    "        miss2_v[blues[:2]] = 1\n",
    "        miss3_v[blues[:3]] = 1\n",
    "        miss2 = torch.Tensor([-1])\n",
    "        miss3 = torch.Tensor([-1])\n",
    "        \n",
    "        for i in range(math.comb(NUM_PLAYERS, 2)):            \n",
    "            if (miss_players(i) == miss2_v).sum() == NUM_PLAYERS:\n",
    "                miss2 = torch.Tensor([i])\n",
    "            if (1.0 - miss_players(i) == miss3_v).sum() == NUM_PLAYERS:\n",
    "                miss3 = torch.Tensor([i])\n",
    "                \n",
    "        assert miss2 != -1 and miss3 != -1\n",
    "        \n",
    "        return (ConstantDistribution(miss2), None), (ConstantDistribution(miss3), None)\n",
    "    \n",
    "    def WHO(self, obs):\n",
    "#         obs = obs.numpy()\n",
    "        self_v = obs[0:SELF_SHAPE]\n",
    "        _comm_v = obs[SELF_SHAPE:COMM_SHAPE*NUM_PLAYERS]\n",
    "        hist = obs[SELF_SHAPE+COMM_SHAPE*NUM_PLAYERS:]\n",
    "        hist = hist.reshape((2, 25, len(hist) // 50))\n",
    "        \n",
    "        # Create badness score\n",
    "        previous_mission_players = hist[0, :, 5:10]\n",
    "#         previous_mission_successes = np.argmax(hist[1, :, 15:18], axis=-1)\n",
    "        # 0 -> no mission\n",
    "        # 1 -> success\n",
    "        # 2 -> failure\n",
    "        mission_no_result = hist[0, :, 15] == 1\n",
    "        mission_failures = hist[0, :, 17] == 1\n",
    "        \n",
    "        # Number of missions each player was on minus the missions with no result\n",
    "        total_previous_mission_players = torch.sum(previous_mission_players, dim=0) - \\\n",
    "                        torch.sum(previous_mission_players * mission_no_result.reshape(25,1), dim=0)\n",
    "        # Number of mission each player was on that failed\n",
    "        previous_mission_failures_players = torch.sum(previous_mission_players * mission_failures.reshape(25,1), dim=0)\n",
    "        \n",
    "        # Badness = Number_of_failed_missions_you_were_on / number_of_missions_you_were_on\n",
    "        badness_score = previous_mission_failures_players / total_previous_mission_players\n",
    "        # In the case where someone has never been on a mission, this will result in a nan\n",
    "        # We will fill nans with 0.5.\n",
    "        badness_score = torch.nan_to_num(badness_score, nan=0.5)\n",
    "        \n",
    "        # We know that I am blue\n",
    "        badness_score[np.argmax(self_v)] = 0\n",
    "        \n",
    "        self.who_v = badness_score\n",
    "        \n",
    "        return badness_score\n",
    "        \n",
    "\n",
    "        \n",
    "\n",
    "class BlueAgentBaselineWHO():\n",
    "    # this blue agent has a PRETRAINED WHO NETWORK and takes actions according to the following rules:\n",
    "    # COMM - outputs a random vector\n",
    "    # MISS - always choose itself and 1~2 other players PREDICTED TO BE BLUE THE MOST\n",
    "    # VOTE - according to the 3 MOST POSSIBLE BLUE PLAYER,\n",
    "    #        vote yes if the mission consist of only blue players, else no\n",
    "\n",
    "    def __init__(self, WHO_NET, lr = 0.01):\n",
    "        self.COMM = lambda args: (ConstantDistribution(torch.rand((COMM_SHAPE))), None)\n",
    "        \n",
    "        self.COMM_opt = None\n",
    "        self.WHO_opt = None\n",
    "        self.MISS_opt2 = None\n",
    "        self.MISS_opt3 = None\n",
    "        self.VOTE_opt = None\n",
    "        self.WHO_NET = WHO_NET\n",
    "        \n",
    "        self.who_v = torch.zeros(NUM_PLAYERS)\n",
    "    \n",
    "    def VOTE(self, obs):\n",
    "        # obs = SELF_SHAPE + WHO_SHAPE + (HIST_SHAPE) <- who goes on mission is here\n",
    "        # env.hist = torch.zeros((2, 25, 20))\n",
    "        hist = obs[SELF_SHAPE+WHO_SHAPE:]\n",
    "        hist = hist.reshape((2, 25, len(hist) // 50))\n",
    "        # find the LAST VALID mission combination\n",
    "        # -- hist[1, si, 5:10]\n",
    "        miss = hist[0, hist[1, :, 5].sum().long()-1, 5:10]\n",
    "        \n",
    "        reds = np.argsort(self.who_v)[-RED_PLAYERS:]\n",
    "        \n",
    "        yes = int(miss[reds].sum()==0)\n",
    "        \n",
    "        return Categorical(probs=torch.Tensor([1-yes, yes])), None\n",
    "\n",
    "    def MISS(self, obs):        \n",
    "        blues = np.argsort(self.who_v)[:BLUE_PLAYERS]\n",
    "        \n",
    "        miss2_v = torch.zeros(NUM_PLAYERS)\n",
    "        miss3_v = torch.zeros(NUM_PLAYERS)\n",
    "        miss2_v[blues[:2]] = 1\n",
    "        miss3_v[blues[:3]] = 1\n",
    "        miss2 = torch.Tensor([-1])\n",
    "        miss3 = torch.Tensor([-1])\n",
    "        \n",
    "        for i in range(math.comb(NUM_PLAYERS, 2)):            \n",
    "            if (miss_players(i) == miss2_v).sum() == NUM_PLAYERS:\n",
    "                miss2 = torch.Tensor([i])\n",
    "            if (1.0 - miss_players(i) == miss3_v).sum() == NUM_PLAYERS:\n",
    "                miss3 = torch.Tensor([i])\n",
    "                \n",
    "        assert miss2 != -1 and miss3 != -1\n",
    "        \n",
    "        return (ConstantDistribution(miss2), None), (ConstantDistribution(miss3), None)\n",
    "        \n",
    "    def WHO(self, obs):\n",
    "        who_v = self.WHO_NET(obs)\n",
    "        self.who_v = who_v.detach().numpy()\n",
    "        return who_v\n",
    "        "
   ]
  },
  {
   "cell_type": "markdown",
   "metadata": {},
   "source": [
    "# Game environment definition"
   ]
  },
  {
   "cell_type": "code",
   "execution_count": 44,
   "metadata": {
    "pycharm": {
     "name": "#%%\n"
    }
   },
   "outputs": [],
   "source": [
    "class AvalonEnv():\n",
    "    def __init__(self):\n",
    "        super().__init__()\n",
    "        self.nm = [2, 3, 2, 3, 3, 0]\n",
    "        self.reset()\n",
    "    \n",
    "    def reset(self):\n",
    "        self.mi = 0\n",
    "        self.ri = 0\n",
    "        self.si = 0\n",
    "        self.li = 0\n",
    "        self.hist = torch.zeros((2, 25, 20))\n",
    "        every = [0, 0, 0, 1, 1]\n",
    "        random.shuffle(every)\n",
    "        self.every = torch.Tensor(every.copy())        \n",
    "        self.who = torch.normal(0.5, 0.1, (NUM_PLAYERS, NUM_PLAYERS))\n",
    "        self.done = False\n",
    "        self.winning_team = None\n",
    "        \n",
    "        # the initial observation of \"hist\" is all zeros\n",
    "        # EXCEPT a one at the leader id (self.li) location of the zero-th step\n",
    "        self.hist[0, 0, self.li] = 1\n",
    "        self.hist[1, 0, :5] = 1\n",
    "        \n",
    "        return self.get_observation()\n",
    "    \n",
    "    def get_observation(self):         \n",
    "        return self.hist, self.every, self.who, self.li, self.si, self.mi, self.nm[self.mi], self.done\n",
    "    \n",
    "    def update_who(self, who_m):\n",
    "        self.who = who_m\n",
    "        \n",
    "    def update_miss(self, miss):\n",
    "        # save to self.hist\n",
    "        self.hist[0, self.si, 5:10] = miss.detach()\n",
    "        self.hist[1, self.si, 5:10] = 1\n",
    "        return self.hist\n",
    "    \n",
    "    def update_vote(self, vote):\n",
    "        # save to self.hist\n",
    "        self.hist[0, self.si, 10:15] = vote\n",
    "        self.hist[1, self.si, 10:15] = 1\n",
    "        \n",
    "        # check if there are more yeses than noes\n",
    "        if (vote >= 0.5).sum() > 2:\n",
    "            # set relevance of only the no mission flag\n",
    "            self.hist[1, self.si, 15] = 1\n",
    "        else:\n",
    "            # set the no mission flag\n",
    "            self.hist[0, self.si, 15] = 1\n",
    "\n",
    "            # set the current round\n",
    "            self.hist[0, self.si, 19] = self.ri\n",
    "            \n",
    "            # set the number of failures\n",
    "            self.hist[0, self.si, 18] = self.hist[0, self.si-1, 18] if self.si else 0\n",
    "            \n",
    "            # set relevance\n",
    "            self.hist[1, self.si, 15:] = 1\n",
    "            \n",
    "            if self.ri == 4:\n",
    "                # game is over, red team wins\n",
    "                self.winning_team = RED_TEAM_ID\n",
    "                self.done = True\n",
    "                \n",
    "            # update leader\n",
    "            self.li = (self.li + 1) % 5\n",
    "            self.hist[0, self.si, self.li] = 1\n",
    "            self.hist[1, self.si, :5] = 1\n",
    "            \n",
    "            # update round id\n",
    "            self.ri = (self.ri+1) % 5\n",
    "            \n",
    "            # update step id\n",
    "            self.si += 1\n",
    "        return self.hist\n",
    "        \n",
    "    def update_succ(self, succ):\n",
    "        # set the current round\n",
    "        self.hist[0, self.si, 19] = self.ri\n",
    "        \n",
    "        # set relevance\n",
    "        self.hist[1, self.si, 16:] = 1\n",
    "        \n",
    "        if (succ < 0.5).sum():\n",
    "            # set the mission failure flag\n",
    "            self.hist[0, self.si, 17] = 1\n",
    "            \n",
    "            # set the number of failures\n",
    "            self.hist[0, self.si, 18] = self.hist[0, self.si-1, 18] + 1 if self.si else 1\n",
    "        else:\n",
    "            # set the mission success flag\n",
    "            self.hist[0, self.si, 16] = 1\n",
    "            \n",
    "            # set the number of failures\n",
    "            self.hist[0, self.si, 18] = self.hist[0, self.si-1, 18] if self.si else 0\n",
    "        \n",
    "        # check if game is over\n",
    "        if self.hist[0, self.si, 18]  == 3:\n",
    "            # game is over, red team wins\n",
    "            self.winning_team = RED_TEAM_ID\n",
    "            self.done = True\n",
    "        elif self.mi == 2 + self.hist[0, self.si, 18]:\n",
    "            # game is over, blue team wins\n",
    "            self.winning_team = BLUE_TEAM_ID\n",
    "            self.done = True\n",
    "            \n",
    "        # update mission id\n",
    "        self.mi += 1\n",
    "\n",
    "        # update round id\n",
    "        self.ri = 0\n",
    "\n",
    "        # update step id\n",
    "        self.si += 1\n",
    "\n",
    "        # update leader\n",
    "        self.li = (self.li + 1) % 5\n",
    "        self.hist[0, self.si, self.li] = 1\n",
    "        self.hist[1, self.si, :5] = 1"
   ]
  },
  {
   "cell_type": "markdown",
   "metadata": {},
   "source": [
    "# Game engine and runner"
   ]
  },
  {
   "cell_type": "code",
   "execution_count": 45,
   "metadata": {},
   "outputs": [],
   "source": [
    "args = getDefaultParams()\n",
    "@dataclass\n",
    "class AvalonEngine:\n",
    "    env: AvalonEnv\n",
    "    train_episodes: int\n",
    "    max_epoch: int\n",
    "    blue: BlueAgent\n",
    "    red: RedAgent\n",
    "    trainable_models: list\n",
    "    gamma: float\n",
    "    gae_lambda: float\n",
    "    \n",
    "    def run(self, is_training=True):\n",
    "        # Useful for constructing the self vector (self_v)\n",
    "        self_m = torch.eye(5)\n",
    "        history_log = []\n",
    "        winning_log = []\n",
    "        every_log = []\n",
    "        \n",
    "        for epoch in tqdm(range(self.max_epoch), desc='epoch', leave=False):\n",
    "            for train_model in tqdm(self.trainable_models, desc='train_model'):\n",
    "                # print(f'train model = {train_model}')\n",
    "\n",
    "                winning_team = []\n",
    "                every_replay = []\n",
    "                every_replay_log = []\n",
    "                # trajectory buffer\n",
    "                if is_training:\n",
    "                    obs_replay_epoch = []\n",
    "                    actions_replay_epoch = []\n",
    "                    log_probs_epoch = []\n",
    "                    stepid_replay_epoch = []\n",
    "\n",
    "                for episode in range(self.train_episodes):\n",
    "                    hist, every, who, li, si, mi, nm, done = self.env.reset()\n",
    "                    \n",
    "                    every_replay_log.append(every)\n",
    "                    if is_training:\n",
    "                        obs_replay = []\n",
    "                        actions_replay = []\n",
    "                        log_probs = []\n",
    "                        stepid_replay = []\n",
    "\n",
    "                    while not done:\n",
    "                        # print(f'li, si, mi, ri = {li}, {si}, {mi}, {self.env.ri}')\n",
    "                        # Flow: communication -> predict who -> decide miss -> voting -> succ/fail -> next round\n",
    "                        #                                                             -> next round\n",
    "\n",
    "#                         print(f'Mission {mi} Round {self.env.ri} Step {si}')\n",
    "                        \n",
    "                        ''' Communication '''\n",
    "                        # Initialize communication matrix\n",
    "                        comm_m = []\n",
    "                        # Loop over every agent\n",
    "                        for i in range(5):\n",
    "                            # create input vector for network                            \n",
    "                            comm_in = torch.cat((self_m[i], every if every[i] else who[i], hist.flatten()))\n",
    "                            \n",
    "#                             if agents == []:\n",
    "#                                 comm_v = torch.rand(COMM_SHAPE)\n",
    "#                             else:\n",
    "                            \n",
    "                            # Call the COMM network of the current agent and return \n",
    "                            # the communication vector (comm_v)\n",
    "                            comm_dist, _ = self.blue.COMM(comm_in) if every[i]==BLUE_TEAM_ID \\\n",
    "                                                                    else self.red.COMM(comm_in)\n",
    "                            comm_v = comm_dist.sample()\n",
    "                \n",
    "                            # Append it to the communication matrix (comm)\n",
    "                            comm_m.append(comm_v)\n",
    "                            # If we are currently training on the COMM network, save it to experience buffer\n",
    "                            if is_training and ((train_model == 'comm_red' and every[i] == RED_TEAM_ID) or \\\n",
    "                                    (train_model == 'comm_blue' and every[i] == BLUE_TEAM_ID)):\n",
    "                                obs_replay.append(comm_in)\n",
    "                                actions_replay.append(comm_v)\n",
    "                                log_probs.append(comm_dist.log_prob(comm_v))\n",
    "                                stepid_replay.append(si)\n",
    "                        # Make the torch.Tensor communication matrix\n",
    "                        comm_m = torch.cat(comm_m)\n",
    "                        \n",
    "#                         print(f'  All the players communicated')\n",
    "\n",
    "                        ''' Predicting Who '''\n",
    "                        # Loop over every agent\n",
    "                        for i in range(NUM_PLAYERS):\n",
    "                            # continue if the agent is on the red team\n",
    "                            if every[i] == RED_TEAM_ID:\n",
    "                                continue\n",
    "                            # create input vector for network\n",
    "                            who_in = torch.cat((self_m[i], comm_m, hist.flatten()))\n",
    "\n",
    "                            # Call the WHO network of the current agent (on the blue team)\n",
    "                            # and return the who vector (who)\n",
    "                            who_v = self.blue.WHO(who_in)\n",
    "                            \n",
    "                            # Update \"who_v\" into \"who\"\n",
    "                            who[i] = who_v\n",
    "                            # If we are currently training on the WHO network, save it to experience buffer\n",
    "                            if is_training and train_model == 'who_blue':\n",
    "                                obs_replay.append(who_in)\n",
    "                                actions_replay.append(who_v)\n",
    "                                stepid_replay.append(si)\n",
    "                        # update the who matrix to the environment\n",
    "                        self.env.update_who(who)\n",
    "                        \n",
    "#                         print(f'  All blue players predicted who')\n",
    "#                         for i in range(NUM_PLAYERS):\n",
    "#                             if every[i] == RED_TEAM_ID:\n",
    "#                                 continue\n",
    "#                             print(f'    {i} -> {who[i]}')\n",
    "\n",
    "                        ''' Deciding candidates to go on mission '''\n",
    "                        # create input vector for \"miss\" network\n",
    "                        miss_in = torch.cat((self_m[li], every if every[li] else who[li], hist.flatten()))\n",
    "\n",
    "                        # Only call the leader\n",
    "                        miss_dist = self.blue.MISS(miss_in) if every[li]==BLUE_TEAM_ID else self.red.MISS(miss_in)\n",
    "                        miss = miss_dist[nm - 2][0].sample()\n",
    "            \n",
    "                        # If we are currently training on the MISS network, save it to the experience buffer\n",
    "                        if is_training and (('miss_red' in train_model and every[i] == RED_TEAM_ID) or \n",
    "                                            ('miss_blue' in train_model and every[i] == BLUE_TEAM_ID)):\n",
    "                            if str(nm) in train_model:\n",
    "                                obs_replay.append(miss_in)\n",
    "                                actions_replay.append(miss)\n",
    "                                log_probs.append(miss_dist)\n",
    "                                stepid_replay.append(si)\n",
    "                        # Update the \"miss\" vector to the environment\n",
    "                        miss = miss_players(miss.long()) if nm==2 else 1-miss_players(miss.long())\n",
    "                        hist = self.env.update_miss(miss)\n",
    "                        \n",
    "#                         print(f'  Leader {li} decides {miss} go on mission')\n",
    "                            \n",
    "                        ''' Voting YES/NO for the mission candidates '''\n",
    "                        # Initialize vote vector\n",
    "                        vote = []\n",
    "                        # Loop over every agent\n",
    "                        for i in range(5):\n",
    "                            # create input vector for network\n",
    "                            vote_in = torch.cat((self_m[i], every if every[i] else who[i], hist.flatten()))\n",
    "\n",
    "                            # Call the VOTE network of the current agent and return vote_pi                            \n",
    "                            vote_dist, _ = self.blue.VOTE(vote_in) if every[i]==BLUE_TEAM_ID \\\n",
    "                                                                    else self.red.VOTE(vote_in)\n",
    "                            vote_pi = vote_dist.sample()\n",
    "            \n",
    "                            # Append the voting results to \"vote\"\n",
    "                            vote.append(vote_pi)\n",
    "                            # If we are currently training on the VOTE network, save it to experience buffer\n",
    "                            if is_training and ((train_model == 'vote_red' and every[i] == RED_TEAM_ID) or \n",
    "                                    (train_model == 'vote_blue' and every[i] == BLUE_TEAM_ID)):\n",
    "                                obs_replay.append(vote_in)\n",
    "                                actions_replay.append(vote_pi)\n",
    "                                log_probs.append(vote_dist)\n",
    "                                stepid_replay.append(si)\n",
    "                        # Make the torch.Tensor vote vector\n",
    "                        vote = torch.Tensor(vote)\n",
    "                        \n",
    "                        # Update the \"vote\" vector to the environment\n",
    "                        hist = self.env.update_vote(vote)\n",
    "                        \n",
    "#                         print(f'  Voting results {vote} -> {(vote >= 0.5).sum() > 2}')\n",
    "                        \n",
    "    \n",
    "                        ''' Success/Failure for the mission '''\n",
    "                        # check if there are more yeses than noes\n",
    "                        if (vote >= 0.5).sum() > 2:\n",
    "                            # Initialize succ vector\n",
    "                            succ = []\n",
    "                            # Loop over every agent   \n",
    "                            for i in range(5):\n",
    "                                if not miss[i]:\n",
    "                                    continue\n",
    "                                # create input vector for network\n",
    "                                succ_in = torch.cat((self_m[i], every if every[i] else who[i], hist.flatten()))\n",
    "\n",
    "                                # Call the SUCCESS network of the current agent and return succ_i\n",
    "                                if every[i] == BLUE_TEAM_ID:\n",
    "                                    succ_i = torch.Tensor([1.0])\n",
    "                                else:\n",
    "                                    succ_dist, _ = self.red.SUCC(succ_in)\n",
    "                                    succ_i = succ_dist.sample()\n",
    "            \n",
    "                                # Append the voting results to \"vote\"\n",
    "                                succ.append(succ_i)\n",
    "                                \n",
    "                                # If we are currently training on the SUCCESS network, \n",
    "                                # save it to experience buffer\n",
    "                                if is_training and train_model == 'succ_red' and every[i] == RED_TEAM_ID:\n",
    "                                    obs_replay.append(succ_in)\n",
    "                                    actions_replay.append(succ_i)\n",
    "                                    log_probs.append(succ_dist)\n",
    "                                    stepid_replay.append(si)\n",
    "                            \n",
    "                            # Make the torch.Tensor succ vector\n",
    "                            succ = torch.Tensor(succ)\n",
    "\n",
    "                            # Update the \"succ\" vector to the environment\n",
    "                            self.env.update_succ(succ)\n",
    "                            \n",
    "#                         print(f'  Mission: {hist[0,self.env.si-1,15:18]} - {hist[0,self.env.si-1,18]}',\n",
    "#                               f'Fails {hist[0,self.env.si-1,19]} Round')\n",
    "                        \n",
    "                        hist, every, who, li, si, mi, nm, done = self.env.get_observation()\n",
    "                        \n",
    "                    # append the result of each episode into the epoch buffer\n",
    "                    winning_team.append(self.env.winning_team)\n",
    "                    history_log.append(hist)\n",
    "                    if is_training:\n",
    "                        obs_replay_epoch.append(obs_replay)\n",
    "                        actions_replay_epoch.append(actions_replay)\n",
    "                        log_probs_epoch.append(log_probs)\n",
    "                        stepid_replay_epoch.append(stepid_replay)\n",
    "                        last_step = si\n",
    "                        every_replay.append(torch.stack([every] * si * BLUE_PLAYERS, axis=0))\n",
    "                \n",
    "                if is_training:\n",
    "                    obs_all = []\n",
    "                    actions_all = []\n",
    "                    log_probs_all = []\n",
    "                    stepid_all = []\n",
    "                    discounted_rewards = []\n",
    "                    for epi in range(self.train_episodes):\n",
    "                        if len(stepid_replay_epoch[epi]) > 0:\n",
    "                            obs_all += obs_replay_epoch[epi]\n",
    "                            actions_all += actions_replay_epoch[epi]\n",
    "                            log_probs_all += log_probs_epoch[epi]\n",
    "                            stepid_all += stepid_replay_epoch[epi]\n",
    "                            discounted_rewards += compute_discounted_rewards(stepid_replay_epoch[epi], \n",
    "                                                                             last_step, winning_team[epi], \n",
    "                                                                             train_model, self.gamma)   \n",
    "                    value_function = (lambda x : 0)\n",
    "                    \n",
    "                    sb = preprocess(obs_all, actions_all, stepid_all, discounted_rewards, value_function)\n",
    "\n",
    "                    model_lookup = {\"comm_red\": (red.COMM, red.COMM_opt),\n",
    "                        \"miss_red_2\" : (red.MISS, red.MISS_opt2),\n",
    "                        \"miss_red_3\" : (red.MISS, red.MISS_opt3),\n",
    "                        \"vote_red\" : (red.VOTE, red.VOTE_opt), \n",
    "                        \"succ_red\" : (red.SUCC, red.SUCC_opt),\n",
    "                        \"who_blue\" : (blue.WHO, blue.WHO_opt),\n",
    "                        \"comm_blue\" : (blue.COMM, blue.COMM_opt),\n",
    "                        \"miss_blue_2\" : (blue.MISS, blue.MISS_opt2),\n",
    "                        \"miss_blue_3\" : (blue.MISS, blue.MISS_opt3),\n",
    "                        \"vote_blue\" : (blue.VOTE, blue.VOTE_opt)}\n",
    "\n",
    "                    acmodel, optimizer = model_lookup[train_model]\n",
    "\n",
    "                    if is_training:\n",
    "                        if train_model != \"who_blue\":\n",
    "                            update_parameters_ppo(optimizer, acmodel, sb, args, train_model)\n",
    "                        else:\n",
    "                            optimizer.zero_grad()\n",
    "\n",
    "                            every_replay = torch.concat(every_replay, axis=0)\n",
    "                            obs_all_t = torch.from_numpy(np.stack(obs_all, axis=0))\n",
    "                            \n",
    "                            preds = acmodel(obs_all_t)\n",
    "                            \n",
    "#                             weight = (~(obs_all_t[:,:5].bool())).float()\n",
    "                            \n",
    "                            loss = torch.nn.functional.binary_cross_entropy(preds, every_replay)\n",
    "\n",
    "                            loss.backward()\n",
    "                            optimizer.step()\n",
    "        \n",
    "                        print(f'loss = {loss.item()}')\n",
    "                        # random sample from the obs_all and check if every_replay fits\n",
    "#                         randi = np.random.randint(len(every_replay))\n",
    "                        randi = len(every_replay) - 1\n",
    "                        pred_l = acmodel(obs_all_t[randi:randi+1])\n",
    "                        real_l = every_replay[randi:randi+1]\n",
    "                        loss = torch.nn.functional.binary_cross_entropy(pred_l, real_l)\n",
    "#                         print(f'    pred = {acmodel(obs_all_t[randi:randi+1]).detach().numpy()}')\n",
    "#                         print(f'    real = {every_replay[randi].detach().numpy()}')\n",
    "                        print(f'LAST - {loss.item()}')\n",
    "                        \n",
    "                        # 5 + 32*5 + 1000\n",
    "#                         print(f'{obs_all_t[randi:randi+1, :5]}')\n",
    "#                         print(f'{obs_all_t[randi:randi+1, 5:165]}')\n",
    "#                         print(f'{obs_all_t[randi:randi+1, 165:]}')\n",
    "\n",
    "# end of self.train_episodes episodes\n",
    "# # obs_replay, actions_replay, stepid_replay, winning_team\n",
    "# if len(stepid_replay) > 0:\n",
    "#     discounted_rewards = compute_discounted_rewards(stepid_replay, winning_team, train_model, self.gamma)\n",
    "#     advantage_gae = compute_advantage_gae([0.0] * len(stepid_replay), discounted_rewards, stepid_replay, \n",
    "#                                           self.gae_lambda, self.gamma, train_model)\n",
    "# sb['obs', 'action', 'advantage_gae' or 'advantage', 'discounted_reward']\n",
    "                \n",
    "                # end of epoch\n",
    "                winning_log.extend(winning_team)\n",
    "                every_log.extend(every_replay_log)\n",
    "            \n",
    "            if epoch % 50 == 0:\n",
    "                evaluate(history_log, winning_log, every_replay_log)\n",
    "        \n",
    "        return history_log, winning_log, every_log\n",
    "                    "
   ]
  },
  {
   "cell_type": "markdown",
   "metadata": {},
   "source": [
    "# PPO algorithm"
   ]
  },
  {
   "cell_type": "code",
   "execution_count": 46,
   "metadata": {},
   "outputs": [],
   "source": [
    "# args = getDefaultParams()\n",
    "def compute_discounted_rewards(stepid_replay, last_step, winning_team, train_model, gamma):\n",
    "\n",
    "    # last_step = 10\n",
    "    # stepid_replay = [0, 0, 1, 3, 5, 5, 6, 6, 6, 8]\n",
    "\n",
    "    # Calculate the discounted rewards\n",
    "    win_team_color = 'red' if winning_team == RED_TEAM_ID else 'blue'\n",
    "    R = 1 if win_team_color in train_model else -1\n",
    "    discounted_rewards = [R * (gamma ** (last_step - 1 - stepid_replay[-1]))]\n",
    "    curr_step = stepid_replay[-1]\n",
    "\n",
    "    for si in range(len(stepid_replay) - 2, -1, -1):\n",
    "        discounted_rewards += [discounted_rewards[-1] * (gamma ** (curr_step - stepid_replay[si]))]\n",
    "        curr_step = stepid_replay[si]\n",
    "\n",
    "    # stepN = len(stepid_replay)\n",
    "    # win_team_color = 'red' if winning_team[-1] == RED_TEAM_ID else 'blue'\n",
    "    # discounted_rewards = [1 if win_team_color in train_model else -1]\n",
    "\n",
    "    # for i in range(stepN - 2, -1, -1):\n",
    "    #     if stepid_replay[i] == stepid_replay[i+1]:\n",
    "    #         # the current step of the i-th index is the same as the step of the i+1-th index\n",
    "    #         discounted_rewards.append(discounted_rewards[-1])\n",
    "    #     elif stepid_replay[i] != 0 and stepid_replay[i+1] == 0:\n",
    "    #         # the current step of the i-th index is the last step of a new episode\n",
    "    #         win_team_color = 'red' if winning_team[i] == RED_TEAM_ID else 'blue'\n",
    "    #         discounted_rewards.append(1 if win_team_color in train_model else -1)\n",
    "    #     else:\n",
    "    #         # the current step of the i-th index is the step of the i+1-th index minus 1\n",
    "    #         discounted_rewards.append(discounted_rewards[-1] * gamma)\n",
    "\n",
    "    discounted_rewards.reverse()\n",
    "    return discounted_rewards\n",
    "\n",
    "\n",
    "def preprocess(obs_replay, actions_replay, stepid_replay, discounted_rewards, value_function):\n",
    "    # Example:\n",
    "    # preprocess(*full_replay_buffer, range(10), (lambda x: 0))\n",
    "\n",
    "    # print(len(obs_replay))\n",
    "    # print(len(stepid_replay))\n",
    "\n",
    "    assert len(obs_replay) == len(actions_replay)\n",
    "    assert len(obs_replay) == len(stepid_replay)\n",
    "    assert len(discounted_rewards) == len(obs_replay)\n",
    "    discounted_rewards = torch.Tensor(discounted_rewards)\n",
    "    # print(obs_replay)\n",
    "    obs_replay = torch.stack(obs_replay)\n",
    "    \n",
    "    actions_replay = torch.stack(actions_replay)    \n",
    "    # obs_replay = torch.Tensor(obs_replay)\n",
    "    sb = {\n",
    "        \"obs\" : obs_replay,\n",
    "        \"action\" : actions_replay,\n",
    "        \"advantage\" : discounted_rewards - value_function(obs_replay),\n",
    "        \"discounted_reward\" : discounted_rewards,\n",
    "    }\n",
    "    return sb\n",
    "\n",
    "\n",
    "\n",
    "def update_parameters_ppo(optimizer, acmodel, sb, args, train_model):\n",
    "    def _compute_policy_loss_ppo(logp, old_logp, entropy, advantages):\n",
    "        policy_loss, approx_kl = 0, 0\n",
    "\n",
    "        ### TODO: implement PPO policy loss computation (30 pts).  #######\n",
    "        logr = logp - old_logp\n",
    "        ratios = torch.exp(logr)\n",
    "        \n",
    "        surr1 = ratios * advantages\n",
    "        surr2 = torch.clamp(ratios, 1-args['clip_ratio'], 1+args['clip_ratio']) * advantages\n",
    "        \n",
    "        policy_loss = (-torch.min(surr1, surr2) -args['entropy_coef']*entropy).mean()\n",
    "        \n",
    "        # approx_kl = torch.sum(torch.exp(logp) * logr)\n",
    "        #approx_kl = torch.nn.functional.kl_div(logp, old_logp)\n",
    "\n",
    "        # approx_kl = ((logr.exp() - 1) - logr).sum()\n",
    "        approx_kl = ((logr ** 2) / 2).sum()\n",
    "        \n",
    "        ##################################################################\n",
    "        \n",
    "        return policy_loss, approx_kl\n",
    "    \n",
    "    def _compute_value_loss(values, returns):\n",
    "        ### TODO: implement PPO value loss computation (10 pts) ##########\n",
    "        value_loss = F.mse_loss(values.squeeze(-1), returns).mean() #(values - returns).pow(2).mean()\n",
    "        ##################################################################\n",
    "\n",
    "        return value_loss\n",
    "\n",
    "    result = acmodel(sb['obs'])\n",
    "    if 'miss' in train_model:\n",
    "        if \"2\" in train_model:\n",
    "            result = result[0]\n",
    "        else:\n",
    "            result = result[1]\n",
    "\n",
    "    dist, (_, values) = result\n",
    "    \n",
    "    old_logp = dist.log_prob(sb['action']).detach()\n",
    "    logp = dist.log_prob(sb['action'])\n",
    "    dist_entropy = dist.entropy()\n",
    "    \n",
    "    advantage = sb['advantage_gae'] if args['use_gae'] else sb['advantage']\n",
    "    \n",
    "    policy_loss, _ = _compute_policy_loss_ppo(logp, old_logp, dist_entropy, advantage)\n",
    "\n",
    "    if not args[\"use_critic\"]:\n",
    "        values = torch.zeros_like(sb['discounted_reward'])\n",
    "\n",
    "    value_loss = _compute_value_loss(values, sb['discounted_reward'])\n",
    "\n",
    "    for i in range(args['train_ac_iters']):\n",
    "        result = acmodel(sb['obs'])\n",
    "        if 'miss' in train_model:\n",
    "            if \"2\" in train_model:\n",
    "                result = result[0]\n",
    "            else:\n",
    "                result = result[1]\n",
    "        dists, (_, values) = result\n",
    "            \n",
    "        logp = dists.log_prob(sb['action'])\n",
    "        dist_entropy = dists.entropy()\n",
    "        \n",
    "        optimizer.zero_grad()\n",
    "        \n",
    "        loss_pi, approx_kl = _compute_policy_loss_ppo(logp, old_logp, dist_entropy, advantage)\n",
    "\n",
    "        if not args[\"use_critic\"]:\n",
    "            values = torch.zeros_like(sb['discounted_reward'])\n",
    "            \n",
    "        loss_v = _compute_value_loss(values, sb['discounted_reward'])\n",
    "\n",
    "        loss = loss_v + loss_pi\n",
    "        if approx_kl > 1.5 * args['target_kl']:\n",
    "            break\n",
    "        \n",
    "        loss.backward(retain_graph=True)\n",
    "        optimizer.step()\n",
    "    \n",
    "    update_policy_loss = policy_loss.item()\n",
    "    update_value_loss = value_loss.item()\n",
    "\n",
    "    logs = {\n",
    "        \"policy_loss\": update_policy_loss,\n",
    "        \"value_loss\": update_value_loss,\n",
    "    }\n",
    "\n",
    "    return logs"
   ]
  },
  {
   "cell_type": "code",
   "execution_count": 47,
   "metadata": {},
   "outputs": [],
   "source": [
    "def evaluate(hist_log, winning_log, every_log):\n",
    "    def moving_average(x, w):\n",
    "        return np.convolve(x, np.ones(w), 'valid') / w\n",
    "    plt.plot(winning_log)\n",
    "    plt.title(\"Success Rate over time\")\n",
    "    plt.show()\n",
    "    plt.plot(moving_average(winning_log, 50))\n",
    "    plt.show()"
   ]
  },
  {
   "cell_type": "markdown",
   "metadata": {},
   "source": [
    "# Run it"
   ]
  },
  {
   "cell_type": "code",
   "execution_count": 48,
   "metadata": {},
   "outputs": [],
   "source": [
    "# import copy\n",
    "# WHO_NET = WhoNetwork(SELF_SHAPE + HIST_SHAPE + NUM_PLAYERS*COMM_SHAPE, WHO_SHAPE)\n",
    "# WHO_NET.load_state_dict(copy.deepcopy(blue.WHO.state_dict()))\n",
    "# # WHO_NET = torch.clone(blue.WHO)"
   ]
  },
  {
   "cell_type": "code",
   "execution_count": 49,
   "metadata": {
    "scrolled": false
   },
   "outputs": [
    {
     "data": {
      "application/vnd.jupyter.widget-view+json": {
       "model_id": "",
       "version_major": 2,
       "version_minor": 0
      },
      "text/plain": [
       "epoch:   0%|          | 0/100 [00:00<?, ?it/s]"
      ]
     },
     "metadata": {},
     "output_type": "display_data"
    },
    {
     "data": {
      "application/vnd.jupyter.widget-view+json": {
       "model_id": "d8a4b6a69914441e9f003036ec689347",
       "version_major": 2,
       "version_minor": 0
      },
      "text/plain": [
       "train_model:   0%|          | 0/1 [00:00<?, ?it/s]"
      ]
     },
     "metadata": {},
     "output_type": "display_data"
    },
    {
     "data": {
      "image/png": "[encoded data removed]",
      "text/plain": [
       "<Figure size 432x288 with 1 Axes>"
      ]
     },
     "metadata": {
      "needs_background": "light"
     },
     "output_type": "display_data"
    },
    {
     "data": {
      "image/png": "[encoded data removed]",
      "text/plain": [
       "<Figure size 432x288 with 1 Axes>"
      ]
     },
     "metadata": {
      "needs_background": "light"
     },
     "output_type": "display_data"
    },
    {
     "data": {
      "application/vnd.jupyter.widget-view+json": {
       "model_id": "93980ced539d4d43a9d9775bbdd378e8",
       "version_major": 2,
       "version_minor": 0
      },
      "text/plain": [
       "train_model:   0%|          | 0/1 [00:00<?, ?it/s]"
      ]
     },
     "metadata": {},
     "output_type": "display_data"
    },
    {
     "data": {
      "application/vnd.jupyter.widget-view+json": {
       "model_id": "d1af274126934ab9b0fd0ed03c24260f",
       "version_major": 2,
       "version_minor": 0
      },
      "text/plain": [
       "train_model:   0%|          | 0/1 [00:00<?, ?it/s]"
      ]
     },
     "metadata": {},
     "output_type": "display_data"
    },
    {
     "data": {
      "application/vnd.jupyter.widget-view+json": {
       "model_id": "356d888d503347d69bad90d9bd119613",
       "version_major": 2,
       "version_minor": 0
      },
      "text/plain": [
       "train_model:   0%|          | 0/1 [00:00<?, ?it/s]"
      ]
     },
     "metadata": {},
     "output_type": "display_data"
    },
    {
     "data": {
      "application/vnd.jupyter.widget-view+json": {
       "model_id": "169dc7f1300045b9985a5b5a3dd6067e",
       "version_major": 2,
       "version_minor": 0
      },
      "text/plain": [
       "train_model:   0%|          | 0/1 [00:00<?, ?it/s]"
      ]
     },
     "metadata": {},
     "output_type": "display_data"
    },
    {
     "data": {
      "application/vnd.jupyter.widget-view+json": {
       "model_id": "fb7036f9c017466f83bc9ddea7aef7da",
       "version_major": 2,
       "version_minor": 0
      },
      "text/plain": [
       "train_model:   0%|          | 0/1 [00:00<?, ?it/s]"
      ]
     },
     "metadata": {},
     "output_type": "display_data"
    },
    {
     "data": {
      "application/vnd.jupyter.widget-view+json": {
       "model_id": "ab5244b6e285402499c0f01721fe862b",
       "version_major": 2,
       "version_minor": 0
      },
      "text/plain": [
       "train_model:   0%|          | 0/1 [00:00<?, ?it/s]"
      ]
     },
     "metadata": {},
     "output_type": "display_data"
    },
    {
     "data": {
      "application/vnd.jupyter.widget-view+json": {
       "model_id": "52011dc2a71a4d6d96518c9cf23fc544",
       "version_major": 2,
       "version_minor": 0
      },
      "text/plain": [
       "train_model:   0%|          | 0/1 [00:00<?, ?it/s]"
      ]
     },
     "metadata": {},
     "output_type": "display_data"
    },
    {
     "data": {
      "application/vnd.jupyter.widget-view+json": {
       "model_id": "3532bf84d7344252bccff2674d3fa82f",
       "version_major": 2,
       "version_minor": 0
      },
      "text/plain": [
       "train_model:   0%|          | 0/1 [00:00<?, ?it/s]"
      ]
     },
     "metadata": {},
     "output_type": "display_data"
    },
    {
     "data": {
      "application/vnd.jupyter.widget-view+json": {
       "model_id": "e2bfbce33a7942e48cd82902c3eea0a0",
       "version_major": 2,
       "version_minor": 0
      },
      "text/plain": [
       "train_model:   0%|          | 0/1 [00:00<?, ?it/s]"
      ]
     },
     "metadata": {},
     "output_type": "display_data"
    },
    {
     "data": {
      "application/vnd.jupyter.widget-view+json": {
       "model_id": "81557015f1ff48b2b508491e92229b47",
       "version_major": 2,
       "version_minor": 0
      },
      "text/plain": [
       "train_model:   0%|          | 0/1 [00:00<?, ?it/s]"
      ]
     },
     "metadata": {},
     "output_type": "display_data"
    },
    {
     "data": {
      "application/vnd.jupyter.widget-view+json": {
       "model_id": "99c0b8642c4e44f1a073954b81190f31",
       "version_major": 2,
       "version_minor": 0
      },
      "text/plain": [
       "train_model:   0%|          | 0/1 [00:00<?, ?it/s]"
      ]
     },
     "metadata": {},
     "output_type": "display_data"
    },
    {
     "data": {
      "application/vnd.jupyter.widget-view+json": {
       "model_id": "582c987294ef44f7bf9e8d8fa7942ba1",
       "version_major": 2,
       "version_minor": 0
      },
      "text/plain": [
       "train_model:   0%|          | 0/1 [00:00<?, ?it/s]"
      ]
     },
     "metadata": {},
     "output_type": "display_data"
    },
    {
     "data": {
      "application/vnd.jupyter.widget-view+json": {
       "model_id": "d7aa39fd89494080b051e1dfc1adab76",
       "version_major": 2,
       "version_minor": 0
      },
      "text/plain": [
       "train_model:   0%|          | 0/1 [00:00<?, ?it/s]"
      ]
     },
     "metadata": {},
     "output_type": "display_data"
    },
    {
     "data": {
      "application/vnd.jupyter.widget-view+json": {
       "model_id": "756cad0eb6994b3b84dfa88eda91a17a",
       "version_major": 2,
       "version_minor": 0
      },
      "text/plain": [
       "train_model:   0%|          | 0/1 [00:00<?, ?it/s]"
      ]
     },
     "metadata": {},
     "output_type": "display_data"
    },
    {
     "data": {
      "application/vnd.jupyter.widget-view+json": {
       "model_id": "cb21995add9a4e87a2f231c6717f3413",
       "version_major": 2,
       "version_minor": 0
      },
      "text/plain": [
       "train_model:   0%|          | 0/1 [00:00<?, ?it/s]"
      ]
     },
     "metadata": {},
     "output_type": "display_data"
    },
    {
     "data": {
      "application/vnd.jupyter.widget-view+json": {
       "model_id": "4d1f7c116d5047a8809d680a473d4ffa",
       "version_major": 2,
       "version_minor": 0
      },
      "text/plain": [
       "train_model:   0%|          | 0/1 [00:00<?, ?it/s]"
      ]
     },
     "metadata": {},
     "output_type": "display_data"
    },
    {
     "data": {
      "application/vnd.jupyter.widget-view+json": {
       "model_id": "64606f8ecefa428d88ce3c75bf9096d3",
       "version_major": 2,
       "version_minor": 0
      },
      "text/plain": [
       "train_model:   0%|          | 0/1 [00:00<?, ?it/s]"
      ]
     },
     "metadata": {},
     "output_type": "display_data"
    },
    {
     "data": {
      "application/vnd.jupyter.widget-view+json": {
       "model_id": "f7118a37931a42bdb460c40308e96966",
       "version_major": 2,
       "version_minor": 0
      },
      "text/plain": [
       "train_model:   0%|          | 0/1 [00:00<?, ?it/s]"
      ]
     },
     "metadata": {},
     "output_type": "display_data"
    },
    {
     "data": {
      "application/vnd.jupyter.widget-view+json": {
       "model_id": "163b4f24ee6b430e8b88c65c5dfb175a",
       "version_major": 2,
       "version_minor": 0
      },
      "text/plain": [
       "train_model:   0%|          | 0/1 [00:00<?, ?it/s]"
      ]
     },
     "metadata": {},
     "output_type": "display_data"
    },
    {
     "data": {
      "application/vnd.jupyter.widget-view+json": {
       "model_id": "2acf99c0c6984a26b27f38402bbdee9c",
       "version_major": 2,
       "version_minor": 0
      },
      "text/plain": [
       "train_model:   0%|          | 0/1 [00:00<?, ?it/s]"
      ]
     },
     "metadata": {},
     "output_type": "display_data"
    },
    {
     "data": {
      "application/vnd.jupyter.widget-view+json": {
       "model_id": "d83c3a31ce5c427185ec6bea3381ecff",
       "version_major": 2,
       "version_minor": 0
      },
      "text/plain": [
       "train_model:   0%|          | 0/1 [00:00<?, ?it/s]"
      ]
     },
     "metadata": {},
     "output_type": "display_data"
    },
    {
     "data": {
      "application/vnd.jupyter.widget-view+json": {
       "model_id": "7bc88bd6dacf4292af255c4721b24a70",
       "version_major": 2,
       "version_minor": 0
      },
      "text/plain": [
       "train_model:   0%|          | 0/1 [00:00<?, ?it/s]"
      ]
     },
     "metadata": {},
     "output_type": "display_data"
    },
    {
     "data": {
      "application/vnd.jupyter.widget-view+json": {
       "model_id": "c0e0bde741b44ad5b385f3fe8ac6a85a",
       "version_major": 2,
       "version_minor": 0
      },
      "text/plain": [
       "train_model:   0%|          | 0/1 [00:00<?, ?it/s]"
      ]
     },
     "metadata": {},
     "output_type": "display_data"
    },
    {
     "data": {
      "application/vnd.jupyter.widget-view+json": {
       "model_id": "5e54867bdd9d4f45ac548d0095571be9",
       "version_major": 2,
       "version_minor": 0
      },
      "text/plain": [
       "train_model:   0%|          | 0/1 [00:00<?, ?it/s]"
      ]
     },
     "metadata": {},
     "output_type": "display_data"
    },
    {
     "data": {
      "application/vnd.jupyter.widget-view+json": {
       "model_id": "417d905f0af340a1a8c8ccad915354bf",
       "version_major": 2,
       "version_minor": 0
      },
      "text/plain": [
       "train_model:   0%|          | 0/1 [00:00<?, ?it/s]"
      ]
     },
     "metadata": {},
     "output_type": "display_data"
    },
    {
     "data": {
      "application/vnd.jupyter.widget-view+json": {
       "model_id": "c143e3cd960644cc94c838495ad115a9",
       "version_major": 2,
       "version_minor": 0
      },
      "text/plain": [
       "train_model:   0%|          | 0/1 [00:00<?, ?it/s]"
      ]
     },
     "metadata": {},
     "output_type": "display_data"
    },
    {
     "data": {
      "application/vnd.jupyter.widget-view+json": {
       "model_id": "0deb2ffb8b404e7f9fe94e8f4fbf5f92",
       "version_major": 2,
       "version_minor": 0
      },
      "text/plain": [
       "train_model:   0%|          | 0/1 [00:00<?, ?it/s]"
      ]
     },
     "metadata": {},
     "output_type": "display_data"
    },
    {
     "data": {
      "application/vnd.jupyter.widget-view+json": {
       "model_id": "5abb4ce4e59b45998596217891ac0f68",
       "version_major": 2,
       "version_minor": 0
      },
      "text/plain": [
       "train_model:   0%|          | 0/1 [00:00<?, ?it/s]"
      ]
     },
     "metadata": {},
     "output_type": "display_data"
    },
    {
     "data": {
      "application/vnd.jupyter.widget-view+json": {
       "model_id": "7282d94764ed45bfa4d8056d2278a146",
       "version_major": 2,
       "version_minor": 0
      },
      "text/plain": [
       "train_model:   0%|          | 0/1 [00:00<?, ?it/s]"
      ]
     },
     "metadata": {},
     "output_type": "display_data"
    },
    {
     "data": {
      "application/vnd.jupyter.widget-view+json": {
       "model_id": "7ee6883a128648509750c82b94c81022",
       "version_major": 2,
       "version_minor": 0
      },
      "text/plain": [
       "train_model:   0%|          | 0/1 [00:00<?, ?it/s]"
      ]
     },
     "metadata": {},
     "output_type": "display_data"
    },
    {
     "data": {
      "application/vnd.jupyter.widget-view+json": {
       "model_id": "331c26aa833b45daa74a97b9bede80a0",
       "version_major": 2,
       "version_minor": 0
      },
      "text/plain": [
       "train_model:   0%|          | 0/1 [00:00<?, ?it/s]"
      ]
     },
     "metadata": {},
     "output_type": "display_data"
    },
    {
     "data": {
      "application/vnd.jupyter.widget-view+json": {
       "model_id": "d6407b047f894a72b7b1d525646481a9",
       "version_major": 2,
       "version_minor": 0
      },
      "text/plain": [
       "train_model:   0%|          | 0/1 [00:00<?, ?it/s]"
      ]
     },
     "metadata": {},
     "output_type": "display_data"
    },
    {
     "data": {
      "application/vnd.jupyter.widget-view+json": {
       "model_id": "b4cc36e087b349469552427c048655f7",
       "version_major": 2,
       "version_minor": 0
      },
      "text/plain": [
       "train_model:   0%|          | 0/1 [00:00<?, ?it/s]"
      ]
     },
     "metadata": {},
     "output_type": "display_data"
    },
    {
     "data": {
      "application/vnd.jupyter.widget-view+json": {
       "model_id": "ee55a6c21b0e4d1db9317ffe73b0be2a",
       "version_major": 2,
       "version_minor": 0
      },
      "text/plain": [
       "train_model:   0%|          | 0/1 [00:00<?, ?it/s]"
      ]
     },
     "metadata": {},
     "output_type": "display_data"
    },
    {
     "data": {
      "application/vnd.jupyter.widget-view+json": {
       "model_id": "1bb9fde0adb649c3b46a405c9e61daef",
       "version_major": 2,
       "version_minor": 0
      },
      "text/plain": [
       "train_model:   0%|          | 0/1 [00:00<?, ?it/s]"
      ]
     },
     "metadata": {},
     "output_type": "display_data"
    },
    {
     "data": {
      "application/vnd.jupyter.widget-view+json": {
       "model_id": "23044bb92a2a4668bb89d998d4dbb258",
       "version_major": 2,
       "version_minor": 0
      },
      "text/plain": [
       "train_model:   0%|          | 0/1 [00:00<?, ?it/s]"
      ]
     },
     "metadata": {},
     "output_type": "display_data"
    },
    {
     "data": {
      "application/vnd.jupyter.widget-view+json": {
       "model_id": "01b4b385179346d5a299f78d4bc0f2c0",
       "version_major": 2,
       "version_minor": 0
      },
      "text/plain": [
       "train_model:   0%|          | 0/1 [00:00<?, ?it/s]"
      ]
     },
     "metadata": {},
     "output_type": "display_data"
    },
    {
     "data": {
      "application/vnd.jupyter.widget-view+json": {
       "model_id": "2bdf3317979e46c3b86148620375078e",
       "version_major": 2,
       "version_minor": 0
      },
      "text/plain": [
       "train_model:   0%|          | 0/1 [00:00<?, ?it/s]"
      ]
     },
     "metadata": {},
     "output_type": "display_data"
    },
    {
     "data": {
      "application/vnd.jupyter.widget-view+json": {
       "model_id": "04e3d98dd2124fa79af36787a9a2b247",
       "version_major": 2,
       "version_minor": 0
      },
      "text/plain": [
       "train_model:   0%|          | 0/1 [00:00<?, ?it/s]"
      ]
     },
     "metadata": {},
     "output_type": "display_data"
    },
    {
     "data": {
      "application/vnd.jupyter.widget-view+json": {
       "model_id": "44cf2bcd6ae7414cbf273b7e351e350c",
       "version_major": 2,
       "version_minor": 0
      },
      "text/plain": [
       "train_model:   0%|          | 0/1 [00:00<?, ?it/s]"
      ]
     },
     "metadata": {},
     "output_type": "display_data"
    },
    {
     "data": {
      "application/vnd.jupyter.widget-view+json": {
       "model_id": "652ac4a81d9d4df39b4480acd9b83b2f",
       "version_major": 2,
       "version_minor": 0
      },
      "text/plain": [
       "train_model:   0%|          | 0/1 [00:00<?, ?it/s]"
      ]
     },
     "metadata": {},
     "output_type": "display_data"
    },
    {
     "data": {
      "application/vnd.jupyter.widget-view+json": {
       "model_id": "12f419abfb524cb8a5c64171c32eb3dc",
       "version_major": 2,
       "version_minor": 0
      },
      "text/plain": [
       "train_model:   0%|          | 0/1 [00:00<?, ?it/s]"
      ]
     },
     "metadata": {},
     "output_type": "display_data"
    },
    {
     "data": {
      "application/vnd.jupyter.widget-view+json": {
       "model_id": "b02bfc8493154489897d0cbf4b2ace05",
       "version_major": 2,
       "version_minor": 0
      },
      "text/plain": [
       "train_model:   0%|          | 0/1 [00:00<?, ?it/s]"
      ]
     },
     "metadata": {},
     "output_type": "display_data"
    },
    {
     "data": {
      "application/vnd.jupyter.widget-view+json": {
       "model_id": "53675528221c450b8537c03d8ee46449",
       "version_major": 2,
       "version_minor": 0
      },
      "text/plain": [
       "train_model:   0%|          | 0/1 [00:00<?, ?it/s]"
      ]
     },
     "metadata": {},
     "output_type": "display_data"
    },
    {
     "data": {
      "application/vnd.jupyter.widget-view+json": {
       "model_id": "694f5639a95a4c8e95e274c6617658d5",
       "version_major": 2,
       "version_minor": 0
      },
      "text/plain": [
       "train_model:   0%|          | 0/1 [00:00<?, ?it/s]"
      ]
     },
     "metadata": {},
     "output_type": "display_data"
    },
    {
     "data": {
      "application/vnd.jupyter.widget-view+json": {
       "model_id": "d3a114dca5914b7aab46974fe14faf2c",
       "version_major": 2,
       "version_minor": 0
      },
      "text/plain": [
       "train_model:   0%|          | 0/1 [00:00<?, ?it/s]"
      ]
     },
     "metadata": {},
     "output_type": "display_data"
    },
    {
     "data": {
      "application/vnd.jupyter.widget-view+json": {
       "model_id": "7d3cdbaedda84d18ad146ec4d87ec2d6",
       "version_major": 2,
       "version_minor": 0
      },
      "text/plain": [
       "train_model:   0%|          | 0/1 [00:00<?, ?it/s]"
      ]
     },
     "metadata": {},
     "output_type": "display_data"
    },
    {
     "data": {
      "application/vnd.jupyter.widget-view+json": {
       "model_id": "49cffb1c61e746ae9ca1932a82306923",
       "version_major": 2,
       "version_minor": 0
      },
      "text/plain": [
       "train_model:   0%|          | 0/1 [00:00<?, ?it/s]"
      ]
     },
     "metadata": {},
     "output_type": "display_data"
    },
    {
     "data": {
      "application/vnd.jupyter.widget-view+json": {
       "model_id": "dc7af28ba5ed462782e3481676ff6225",
       "version_major": 2,
       "version_minor": 0
      },
      "text/plain": [
       "train_model:   0%|          | 0/1 [00:00<?, ?it/s]"
      ]
     },
     "metadata": {},
     "output_type": "display_data"
    },
    {
     "data": {
      "application/vnd.jupyter.widget-view+json": {
       "model_id": "d03fcb6423b841c89a3faa27bab56de7",
       "version_major": 2,
       "version_minor": 0
      },
      "text/plain": [
       "train_model:   0%|          | 0/1 [00:00<?, ?it/s]"
      ]
     },
     "metadata": {},
     "output_type": "display_data"
    },
    {
     "data": {
      "image/png": "[encoded data removed]",
      "text/plain": [
       "<Figure size 432x288 with 1 Axes>"
      ]
     },
     "metadata": {
      "needs_background": "light"
     },
     "output_type": "display_data"
    },
    {
     "data": {
      "image/png": "[encoded data removed]",
      "text/plain": [
       "<Figure size 432x288 with 1 Axes>"
      ]
     },
     "metadata": {
      "needs_background": "light"
     },
     "output_type": "display_data"
    },
    {
     "data": {
      "application/vnd.jupyter.widget-view+json": {
       "model_id": "91f36471d38d49f6a7e482864fca3d2d",
       "version_major": 2,
       "version_minor": 0
      },
      "text/plain": [
       "train_model:   0%|          | 0/1 [00:00<?, ?it/s]"
      ]
     },
     "metadata": {},
     "output_type": "display_data"
    },
    {
     "data": {
      "application/vnd.jupyter.widget-view+json": {
       "model_id": "abeb8e42853f4967b0e011b44d23c969",
       "version_major": 2,
       "version_minor": 0
      },
      "text/plain": [
       "train_model:   0%|          | 0/1 [00:00<?, ?it/s]"
      ]
     },
     "metadata": {},
     "output_type": "display_data"
    },
    {
     "data": {
      "application/vnd.jupyter.widget-view+json": {
       "model_id": "57bb924c17304bd19843fe8433c1a942",
       "version_major": 2,
       "version_minor": 0
      },
      "text/plain": [
       "train_model:   0%|          | 0/1 [00:00<?, ?it/s]"
      ]
     },
     "metadata": {},
     "output_type": "display_data"
    },
    {
     "data": {
      "application/vnd.jupyter.widget-view+json": {
       "model_id": "8c7a72cc615443dcac751f17b27e90b2",
       "version_major": 2,
       "version_minor": 0
      },
      "text/plain": [
       "train_model:   0%|          | 0/1 [00:00<?, ?it/s]"
      ]
     },
     "metadata": {},
     "output_type": "display_data"
    },
    {
     "data": {
      "application/vnd.jupyter.widget-view+json": {
       "model_id": "0293f1a769364c36af2034b27c72e388",
       "version_major": 2,
       "version_minor": 0
      },
      "text/plain": [
       "train_model:   0%|          | 0/1 [00:00<?, ?it/s]"
      ]
     },
     "metadata": {},
     "output_type": "display_data"
    },
    {
     "data": {
      "application/vnd.jupyter.widget-view+json": {
       "model_id": "7b176704e4014764b190d3b73c2f6008",
       "version_major": 2,
       "version_minor": 0
      },
      "text/plain": [
       "train_model:   0%|          | 0/1 [00:00<?, ?it/s]"
      ]
     },
     "metadata": {},
     "output_type": "display_data"
    },
    {
     "data": {
      "application/vnd.jupyter.widget-view+json": {
       "model_id": "f848b6bab3164dd5b1a589da87ff7a66",
       "version_major": 2,
       "version_minor": 0
      },
      "text/plain": [
       "train_model:   0%|          | 0/1 [00:00<?, ?it/s]"
      ]
     },
     "metadata": {},
     "output_type": "display_data"
    },
    {
     "data": {
      "application/vnd.jupyter.widget-view+json": {
       "model_id": "0de23d27d748423280b1b813cc97f0b0",
       "version_major": 2,
       "version_minor": 0
      },
      "text/plain": [
       "train_model:   0%|          | 0/1 [00:00<?, ?it/s]"
      ]
     },
     "metadata": {},
     "output_type": "display_data"
    },
    {
     "data": {
      "application/vnd.jupyter.widget-view+json": {
       "model_id": "6080b9f3ccbd48d5babbad9f5109d607",
       "version_major": 2,
       "version_minor": 0
      },
      "text/plain": [
       "train_model:   0%|          | 0/1 [00:00<?, ?it/s]"
      ]
     },
     "metadata": {},
     "output_type": "display_data"
    },
    {
     "data": {
      "application/vnd.jupyter.widget-view+json": {
       "model_id": "673ef3f2563d41979e04c75fe999d76f",
       "version_major": 2,
       "version_minor": 0
      },
      "text/plain": [
       "train_model:   0%|          | 0/1 [00:00<?, ?it/s]"
      ]
     },
     "metadata": {},
     "output_type": "display_data"
    },
    {
     "data": {
      "application/vnd.jupyter.widget-view+json": {
       "model_id": "01d7be4b2e3847b09df4fdf9d5aa3532",
       "version_major": 2,
       "version_minor": 0
      },
      "text/plain": [
       "train_model:   0%|          | 0/1 [00:00<?, ?it/s]"
      ]
     },
     "metadata": {},
     "output_type": "display_data"
    },
    {
     "data": {
      "application/vnd.jupyter.widget-view+json": {
       "model_id": "f38d58bcceaf471a9bfc3bbe7def67e2",
       "version_major": 2,
       "version_minor": 0
      },
      "text/plain": [
       "train_model:   0%|          | 0/1 [00:00<?, ?it/s]"
      ]
     },
     "metadata": {},
     "output_type": "display_data"
    },
    {
     "data": {
      "application/vnd.jupyter.widget-view+json": {
       "model_id": "d15d3288080b4c4199a1e680eabd4a5a",
       "version_major": 2,
       "version_minor": 0
      },
      "text/plain": [
       "train_model:   0%|          | 0/1 [00:00<?, ?it/s]"
      ]
     },
     "metadata": {},
     "output_type": "display_data"
    },
    {
     "data": {
      "application/vnd.jupyter.widget-view+json": {
       "model_id": "141609c258b747d3bda981cbae5da427",
       "version_major": 2,
       "version_minor": 0
      },
      "text/plain": [
       "train_model:   0%|          | 0/1 [00:00<?, ?it/s]"
      ]
     },
     "metadata": {},
     "output_type": "display_data"
    },
    {
     "data": {
      "application/vnd.jupyter.widget-view+json": {
       "model_id": "446390e4dcfd479fa121c82a1d6df4c0",
       "version_major": 2,
       "version_minor": 0
      },
      "text/plain": [
       "train_model:   0%|          | 0/1 [00:00<?, ?it/s]"
      ]
     },
     "metadata": {},
     "output_type": "display_data"
    },
    {
     "data": {
      "application/vnd.jupyter.widget-view+json": {
       "model_id": "2e927bee6b724ee896da85c7a77d2bbb",
       "version_major": 2,
       "version_minor": 0
      },
      "text/plain": [
       "train_model:   0%|          | 0/1 [00:00<?, ?it/s]"
      ]
     },
     "metadata": {},
     "output_type": "display_data"
    },
    {
     "data": {
      "application/vnd.jupyter.widget-view+json": {
       "model_id": "0478478261bd47ac8ffbd759d4b11371",
       "version_major": 2,
       "version_minor": 0
      },
      "text/plain": [
       "train_model:   0%|          | 0/1 [00:00<?, ?it/s]"
      ]
     },
     "metadata": {},
     "output_type": "display_data"
    },
    {
     "data": {
      "application/vnd.jupyter.widget-view+json": {
       "model_id": "bcfbde9dd1ac401bb8c01aaa40205edd",
       "version_major": 2,
       "version_minor": 0
      },
      "text/plain": [
       "train_model:   0%|          | 0/1 [00:00<?, ?it/s]"
      ]
     },
     "metadata": {},
     "output_type": "display_data"
    },
    {
     "data": {
      "application/vnd.jupyter.widget-view+json": {
       "model_id": "ba754a7ebbdf40ada5503f34148be915",
       "version_major": 2,
       "version_minor": 0
      },
      "text/plain": [
       "train_model:   0%|          | 0/1 [00:00<?, ?it/s]"
      ]
     },
     "metadata": {},
     "output_type": "display_data"
    },
    {
     "data": {
      "application/vnd.jupyter.widget-view+json": {
       "model_id": "674a9d94a3dd467fbfa6e6c36db8a58e",
       "version_major": 2,
       "version_minor": 0
      },
      "text/plain": [
       "train_model:   0%|          | 0/1 [00:00<?, ?it/s]"
      ]
     },
     "metadata": {},
     "output_type": "display_data"
    },
    {
     "data": {
      "application/vnd.jupyter.widget-view+json": {
       "model_id": "a52b93fa856e4debb11c19ee72a22392",
       "version_major": 2,
       "version_minor": 0
      },
      "text/plain": [
       "train_model:   0%|          | 0/1 [00:00<?, ?it/s]"
      ]
     },
     "metadata": {},
     "output_type": "display_data"
    },
    {
     "data": {
      "application/vnd.jupyter.widget-view+json": {
       "model_id": "fb1fad60850844f8b5dfe3b09fa64c2e",
       "version_major": 2,
       "version_minor": 0
      },
      "text/plain": [
       "train_model:   0%|          | 0/1 [00:00<?, ?it/s]"
      ]
     },
     "metadata": {},
     "output_type": "display_data"
    },
    {
     "data": {
      "application/vnd.jupyter.widget-view+json": {
       "model_id": "ab105ac72b6f4e8187105bc1fc635ce4",
       "version_major": 2,
       "version_minor": 0
      },
      "text/plain": [
       "train_model:   0%|          | 0/1 [00:00<?, ?it/s]"
      ]
     },
     "metadata": {},
     "output_type": "display_data"
    },
    {
     "data": {
      "application/vnd.jupyter.widget-view+json": {
       "model_id": "73900f19b538491993df0bfc43209506",
       "version_major": 2,
       "version_minor": 0
      },
      "text/plain": [
       "train_model:   0%|          | 0/1 [00:00<?, ?it/s]"
      ]
     },
     "metadata": {},
     "output_type": "display_data"
    },
    {
     "data": {
      "application/vnd.jupyter.widget-view+json": {
       "model_id": "da49899289ac47f688e4b2fb9b689a29",
       "version_major": 2,
       "version_minor": 0
      },
      "text/plain": [
       "train_model:   0%|          | 0/1 [00:00<?, ?it/s]"
      ]
     },
     "metadata": {},
     "output_type": "display_data"
    },
    {
     "data": {
      "application/vnd.jupyter.widget-view+json": {
       "model_id": "1320d139bdcc40d5b504d627589a2617",
       "version_major": 2,
       "version_minor": 0
      },
      "text/plain": [
       "train_model:   0%|          | 0/1 [00:00<?, ?it/s]"
      ]
     },
     "metadata": {},
     "output_type": "display_data"
    },
    {
     "data": {
      "application/vnd.jupyter.widget-view+json": {
       "model_id": "310d4ef43b0e423f91ba89f4b1a28085",
       "version_major": 2,
       "version_minor": 0
      },
      "text/plain": [
       "train_model:   0%|          | 0/1 [00:00<?, ?it/s]"
      ]
     },
     "metadata": {},
     "output_type": "display_data"
    },
    {
     "data": {
      "application/vnd.jupyter.widget-view+json": {
       "model_id": "b59f011010aa4d59bd23104e44de21b8",
       "version_major": 2,
       "version_minor": 0
      },
      "text/plain": [
       "train_model:   0%|          | 0/1 [00:00<?, ?it/s]"
      ]
     },
     "metadata": {},
     "output_type": "display_data"
    },
    {
     "data": {
      "application/vnd.jupyter.widget-view+json": {
       "model_id": "b8955d6f05494470a22c89daaf844e89",
       "version_major": 2,
       "version_minor": 0
      },
      "text/plain": [
       "train_model:   0%|          | 0/1 [00:00<?, ?it/s]"
      ]
     },
     "metadata": {},
     "output_type": "display_data"
    },
    {
     "data": {
      "application/vnd.jupyter.widget-view+json": {
       "model_id": "b56a29d5c4854957a6b3b4eb47343a58",
       "version_major": 2,
       "version_minor": 0
      },
      "text/plain": [
       "train_model:   0%|          | 0/1 [00:00<?, ?it/s]"
      ]
     },
     "metadata": {},
     "output_type": "display_data"
    },
    {
     "data": {
      "application/vnd.jupyter.widget-view+json": {
       "model_id": "6d6f19c45fea45cfa7368c7d5e0813ac",
       "version_major": 2,
       "version_minor": 0
      },
      "text/plain": [
       "train_model:   0%|          | 0/1 [00:00<?, ?it/s]"
      ]
     },
     "metadata": {},
     "output_type": "display_data"
    },
    {
     "data": {
      "application/vnd.jupyter.widget-view+json": {
       "model_id": "f009d891fa374d44bf7abe7654740314",
       "version_major": 2,
       "version_minor": 0
      },
      "text/plain": [
       "train_model:   0%|          | 0/1 [00:00<?, ?it/s]"
      ]
     },
     "metadata": {},
     "output_type": "display_data"
    },
    {
     "data": {
      "application/vnd.jupyter.widget-view+json": {
       "model_id": "bd273ae480c648d396a9d8b209da8dd6",
       "version_major": 2,
       "version_minor": 0
      },
      "text/plain": [
       "train_model:   0%|          | 0/1 [00:00<?, ?it/s]"
      ]
     },
     "metadata": {},
     "output_type": "display_data"
    },
    {
     "data": {
      "application/vnd.jupyter.widget-view+json": {
       "model_id": "c3a2aea54ef44820b9d58fadfb918e25",
       "version_major": 2,
       "version_minor": 0
      },
      "text/plain": [
       "train_model:   0%|          | 0/1 [00:00<?, ?it/s]"
      ]
     },
     "metadata": {},
     "output_type": "display_data"
    },
    {
     "data": {
      "application/vnd.jupyter.widget-view+json": {
       "model_id": "b1cc7c2e4e024e089e51e3d56f600708",
       "version_major": 2,
       "version_minor": 0
      },
      "text/plain": [
       "train_model:   0%|          | 0/1 [00:00<?, ?it/s]"
      ]
     },
     "metadata": {},
     "output_type": "display_data"
    },
    {
     "data": {
      "application/vnd.jupyter.widget-view+json": {
       "model_id": "d6ca6226f22541919b7c3da13570ef9b",
       "version_major": 2,
       "version_minor": 0
      },
      "text/plain": [
       "train_model:   0%|          | 0/1 [00:00<?, ?it/s]"
      ]
     },
     "metadata": {},
     "output_type": "display_data"
    },
    {
     "data": {
      "application/vnd.jupyter.widget-view+json": {
       "model_id": "7021d83b0c77453794a4062226c25b2e",
       "version_major": 2,
       "version_minor": 0
      },
      "text/plain": [
       "train_model:   0%|          | 0/1 [00:00<?, ?it/s]"
      ]
     },
     "metadata": {},
     "output_type": "display_data"
    },
    {
     "data": {
      "application/vnd.jupyter.widget-view+json": {
       "model_id": "5dfa8db487f84fc3bd3a72b30a6793cb",
       "version_major": 2,
       "version_minor": 0
      },
      "text/plain": [
       "train_model:   0%|          | 0/1 [00:00<?, ?it/s]"
      ]
     },
     "metadata": {},
     "output_type": "display_data"
    },
    {
     "data": {
      "application/vnd.jupyter.widget-view+json": {
       "model_id": "38c42ac6044648ba891f374e00360021",
       "version_major": 2,
       "version_minor": 0
      },
      "text/plain": [
       "train_model:   0%|          | 0/1 [00:00<?, ?it/s]"
      ]
     },
     "metadata": {},
     "output_type": "display_data"
    },
    {
     "data": {
      "application/vnd.jupyter.widget-view+json": {
       "model_id": "9cfa18f43b7f4a97be26bc45a8afb0d5",
       "version_major": 2,
       "version_minor": 0
      },
      "text/plain": [
       "train_model:   0%|          | 0/1 [00:00<?, ?it/s]"
      ]
     },
     "metadata": {},
     "output_type": "display_data"
    },
    {
     "data": {
      "application/vnd.jupyter.widget-view+json": {
       "model_id": "024f4b99120e452f9b173983e57432f1",
       "version_major": 2,
       "version_minor": 0
      },
      "text/plain": [
       "train_model:   0%|          | 0/1 [00:00<?, ?it/s]"
      ]
     },
     "metadata": {},
     "output_type": "display_data"
    },
    {
     "data": {
      "application/vnd.jupyter.widget-view+json": {
       "model_id": "2c46c35e5c794972930d8dd4e95c880b",
       "version_major": 2,
       "version_minor": 0
      },
      "text/plain": [
       "train_model:   0%|          | 0/1 [00:00<?, ?it/s]"
      ]
     },
     "metadata": {},
     "output_type": "display_data"
    },
    {
     "data": {
      "application/vnd.jupyter.widget-view+json": {
       "model_id": "6acf1bd28c24466f9d8e3b4e618a4a63",
       "version_major": 2,
       "version_minor": 0
      },
      "text/plain": [
       "train_model:   0%|          | 0/1 [00:00<?, ?it/s]"
      ]
     },
     "metadata": {},
     "output_type": "display_data"
    },
    {
     "data": {
      "application/vnd.jupyter.widget-view+json": {
       "model_id": "89f16d2c8a074c489ec897a567d5e6ea",
       "version_major": 2,
       "version_minor": 0
      },
      "text/plain": [
       "train_model:   0%|          | 0/1 [00:00<?, ?it/s]"
      ]
     },
     "metadata": {},
     "output_type": "display_data"
    },
    {
     "data": {
      "application/vnd.jupyter.widget-view+json": {
       "model_id": "acb1027c95954e829e58b189095e1468",
       "version_major": 2,
       "version_minor": 0
      },
      "text/plain": [
       "train_model:   0%|          | 0/1 [00:00<?, ?it/s]"
      ]
     },
     "metadata": {},
     "output_type": "display_data"
    },
    {
     "data": {
      "application/vnd.jupyter.widget-view+json": {
       "model_id": "6ba2a3ebaffd45028175230745c3b28c",
       "version_major": 2,
       "version_minor": 0
      },
      "text/plain": [
       "train_model:   0%|          | 0/1 [00:00<?, ?it/s]"
      ]
     },
     "metadata": {},
     "output_type": "display_data"
    },
    {
     "data": {
      "application/vnd.jupyter.widget-view+json": {
       "model_id": "ce20616e01d5476389b34bfdc442a56e",
       "version_major": 2,
       "version_minor": 0
      },
      "text/plain": [
       "train_model:   0%|          | 0/1 [00:00<?, ?it/s]"
      ]
     },
     "metadata": {},
     "output_type": "display_data"
    },
    {
     "data": {
      "application/vnd.jupyter.widget-view+json": {
       "model_id": "a792c73d3c2e480dbc967e1d5e69630f",
       "version_major": 2,
       "version_minor": 0
      },
      "text/plain": [
       "train_model:   0%|          | 0/1 [00:00<?, ?it/s]"
      ]
     },
     "metadata": {},
     "output_type": "display_data"
    },
    {
     "data": {
      "application/vnd.jupyter.widget-view+json": {
       "model_id": "b2e2d1b5fbb14b9bb815b78886c1f9d3",
       "version_major": 2,
       "version_minor": 0
      },
      "text/plain": [
       "train_model:   0%|          | 0/1 [00:00<?, ?it/s]"
      ]
     },
     "metadata": {},
     "output_type": "display_data"
    },
    {
     "data": {
      "image/png": "[encoded data removed]",
      "text/plain": [
       "<Figure size 432x288 with 1 Axes>"
      ]
     },
     "metadata": {
      "needs_background": "light"
     },
     "output_type": "display_data"
    },
    {
     "data": {
      "image/png": "[encoded data removed]",
      "text/plain": [
       "<Figure size 432x288 with 1 Axes>"
      ]
     },
     "metadata": {
      "needs_background": "light"
     },
     "output_type": "display_data"
    }
   ],
   "source": [
    "# trainable_models=['comm_red', 'comm_blue', 'who_blue', 'miss_red_2', 'miss_red_3', 'miss_blue_2', 'miss_blue_3', 'vote_red', 'vote_blue', 'succ_red']\n",
    "# trainable_models=['comm_red', 'miss_red_2', 'miss_red_3', 'vote_red', 'succ_red']\n",
    "trainable_models=['comm_blue', 'who_blue', 'miss_blue_2', 'miss_blue_3', 'vote_blue',]\n",
    "\n",
    "trainable_models=['who_blue']\n",
    "# trainable_models=['comm_blue']\n",
    "\n",
    "set_random_seed(1)\n",
    "\n",
    "lrs_blue = {'COMM':0.00025, 'WHO':0.003, 'MISS2':0.00025, 'MISS3':0.00025, 'VOTE':0.00025}\n",
    "gamma = 0.99\n",
    "gae_lambda = 0.95\n",
    "\n",
    "# blue = BlueAgent(lrs=lrs_blue, use_critic=args[\"use_critic\"]) # BlueAgentBaseline()\n",
    "blue = BlueAgentBaselineWHO(WHO_NET = WHO_NET)\n",
    "red = RedAgentBaseline(use_critic=args[\"use_critic\"]) #RedAgent(lr=lr, use_critic=args[\"use_critic\"]) #RedAgentBaseline(\n",
    "\n",
    "my_env = AvalonEnv()\n",
    "engine = AvalonEngine(env=my_env, blue=blue, red=red, train_episodes=50, max_epoch=100,\n",
    "                      trainable_models=trainable_models, gamma=gamma, gae_lambda=gae_lambda)\n",
    "hist_log, winning_log, every_log = engine.run(is_training=False)\n",
    "evaluate(hist_log, winning_log, every_log)"
   ]
  },
  {
   "cell_type": "code",
   "execution_count": 50,
   "metadata": {},
   "outputs": [],
   "source": [
    "def rounds_in_hist(hist):\n",
    "    # 5 is arbitrary\n",
    "    return hist[1, :, 5].sum().long()\n",
    "\n",
    "def count_votes(hist, every):\n",
    "    \n",
    "    player_red_indices = torch.nonzero(every).flatten()\n",
    "    player_blue_indices = torch.nonzero(~(every.bool())).flatten()\n",
    "    \n",
    "    rounds = rounds_in_hist(hist)\n",
    "    \n",
    "    red_votes = hist[0, :rounds, player_red_indices + 10]\n",
    "    blue_votes = hist[0, :rounds, player_blue_indices + 10]\n",
    "    \n",
    "    red_yay_percent = red_votes.sum() / (len(player_red_indices) * rounds)\n",
    "    blue_yay_percent = blue_votes.sum() / (len(player_blue_indices) * rounds)\n",
    "    return red_yay_percent, blue_yay_percent\n",
    "\n",
    "def count_rounds_per_mission(hist, every):\n",
    "    rounds = rounds_in_hist(hist)\n",
    "    \n",
    "    return torch.nonzero(hist[0, :rounds, 15]).sum() / rounds\n",
    "\n",
    "def count_round_stats(hist, every):\n",
    "    non_zero_rounds = np.count_nonzero(hist[0, :, 15])\n",
    "    mission_successes = np.count_nonzero(hist[0, :, 16])\n",
    "    mission_failures = np.count_nonzero(hist[0, :, 17])\n",
    "    \n",
    "    total_rounds = non_zero_rounds + mission_successes + mission_failures\n",
    "    non_zero_rounds /= total_rounds\n",
    "    mission_successes /= total_rounds\n",
    "    mission_failures /= total_rounds\n",
    "    return non_zero_rounds, mission_successes, mission_failures\n",
    "\n",
    "def game_success_state(hist, every):\n",
    "    non_zero_rounds = hist[0, :, 15]\n",
    "    mission_timout = False\n",
    "    ones = torch.ones(5)\n",
    "    for i in range(len(non_zero_rounds)-4):\n",
    "        if (non_zero_rounds[i:i+5] == ones).all():\n",
    "            mission_timout = True\n",
    "            break\n",
    "    mission_successes = np.count_nonzero(hist[0, :, 16])\n",
    "    mission_failures = np.count_nonzero(hist[0, :, 17])\n",
    "    \n",
    "    if mission_successes == 3 and mission_failures < 3 and not mission_timout:\n",
    "        return 0, 1, 0\n",
    "    elif mission_successes < 3 and mission_failures == 3 and not mission_timout:\n",
    "        return 0, 0, 1\n",
    "    elif mission_successes < 3 and mission_failures < 3 and mission_timout:\n",
    "        return 1, 0, 0\n",
    "    else:\n",
    "        print(mission_successes, mission_failures, mission_timout)\n",
    "        import IPython; IPython.embed()\n",
    "        raise Exception(\"Hist had multiple success conditions met.\")"
   ]
  },
  {
   "cell_type": "code",
   "execution_count": 51,
   "metadata": {},
   "outputs": [],
   "source": [
    "def evaluate(hist_log, winning_log, every_log):\n",
    "    def moving_average(x, w):\n",
    "        return np.convolve(x, np.ones(w), 'valid') / w\n",
    "    plt.plot(winning_log)\n",
    "    plt.title(\"Success Rate over time\")\n",
    "    plt.ylabel(\"Success Rate\")\n",
    "    plt.xlabel(\"Step\")\n",
    "    plt.ylim([-0.1, 1.1])\n",
    "    plt.show()\n",
    "    \n",
    "    plt.plot(moving_average(winning_log, 50))\n",
    "    plt.xlabel(\"Step\")\n",
    "    plt.ylabel(\"Success Rate\")\n",
    "    plt.title(\"Smoothed Success Rate over Time\")\n",
    "    plt.ylim([-0.1, 1.1])\n",
    "    plt.show()\n",
    "    \n",
    "    non_rounds, suc_rounds, fail_rounds = zip(*[count_round_stats(hist, every) for (hist, every) in zip(hist_log, every_log)])\n",
    "    plt.plot(moving_average(non_rounds, 100), label=\"non-rounds\")\n",
    "    plt.plot(moving_average(suc_rounds, 100), label=\"suc-rounds\")\n",
    "    plt.plot(moving_average(fail_rounds, 100), label=\"fail-rounds\")\n",
    "    plt.legend([\"non-rounds\", \"suc-rounds\", \"fail-rounds\"], loc=0, frameon=True)\n",
    "    plt.ylabel(\"Percent of Rounds Won Each Game\")\n",
    "    plt.title(\"rounds occurences\")\n",
    "    plt.xlabel(\"Step\")\n",
    "    plt.ylim([-0.1, 1.1])\n",
    "    plt.show()\n",
    "    \n",
    "    fail_5_rounds, blue_win, red_wind = zip(*[game_success_state(hist, every) for (hist, every) in zip(hist_log, every_log)])\n",
    "    plt.plot(moving_average(blue_win, 100), label=\"blue_wind\")\n",
    "    plt.plot(moving_average(red_wind, 100), label=\"red_wind\")\n",
    "    plt.plot(moving_average(fail_5_rounds, 100), label=\"5-round-timeout\")\n",
    "    plt.legend([\"Blue-win\", \"Red-win\", \"5-round-timeout\"], loc=0, frameon=True)\n",
    "    plt.title(\"Win conditions per step\")\n",
    "    plt.ylabel(\"Percent of games won\")\n",
    "    plt.xlabel(\"Step\")\n",
    "    plt.ylim([-0.1, 1.1])\n",
    "    plt.show()\n",
    "    \n",
    "    red_yays, blue_yays = zip(*[count_votes(hist, every) for (hist, every) in zip(hist_log, every_log)])\n",
    "    plt.plot(moving_average(blue_yays, 100), label=\"blue\")\n",
    "    plt.plot(moving_average(red_yays, 100), label=\"red\")\n",
    "    plt.legend([\"Blue\", \"Red\"], loc=0, frameon=True)\n",
    "    plt.title(\"Percent of votes that are 'Yes' by agent\")\n",
    "    plt.ylabel(\"Percent of votes\")\n",
    "    plt.xlabel(\"Step\")\n",
    "    plt.ylim([-0.1, 1.1])\n",
    "    plt.show()"
   ]
  },
  {
   "cell_type": "code",
   "execution_count": 52,
   "metadata": {
    "scrolled": false
   },
   "outputs": [
    {
     "data": {
      "image/png": "[encoded data removed]",
      "text/plain": [
       "<Figure size 432x288 with 1 Axes>"
      ]
     },
     "metadata": {
      "needs_background": "light"
     },
     "output_type": "display_data"
    },
    {
     "data": {
      "image/png": "[encoded data removed]",
      "text/plain": [
       "<Figure size 432x288 with 1 Axes>"
      ]
     },
     "metadata": {
      "needs_background": "light"
     },
     "output_type": "display_data"
    },
    {
     "data": {
      "image/png": "[encoded data removed]",
      "text/plain": [
       "<Figure size 432x288 with 1 Axes>"
      ]
     },
     "metadata": {
      "needs_background": "light"
     },
     "output_type": "display_data"
    },
    {
     "data": {
      "image/png": "[encoded data removed]",
      "text/plain": [
       "<Figure size 432x288 with 1 Axes>"
      ]
     },
     "metadata": {
      "needs_background": "light"
     },
     "output_type": "display_data"
    },
    {
     "data": {
      "image/png": "[encoded data removed]",
      "text/plain": [
       "<Figure size 432x288 with 1 Axes>"
      ]
     },
     "metadata": {
      "needs_background": "light"
     },
     "output_type": "display_data"
    }
   ],
   "source": [
    "%matplotlib inline\n",
    "evaluate(hist_log, winning_log, every_log)"
   ]
  },
  {
   "cell_type": "code",
   "execution_count": null,
   "metadata": {},
   "outputs": [],
   "source": []
  },
  {
   "cell_type": "code",
   "execution_count": null,
   "metadata": {},
   "outputs": [],
   "source": [
    "# #@title\n",
    "# def compute_advantage_gae(values, discounted_rewards, stepid_replay, gae_lambda, gamma, train_model):\n",
    "#     rewards = [x if abs(x) == 1 else 0 for x in discounted_rewards]\n",
    "#     # print(rewards)\n",
    "#     # print(discounted_rewards)\n",
    "\n",
    "#     reps = 0\n",
    "#     if stepid_replay[0] != 0:\n",
    "#         print(train_model)\n",
    "#         print(stepid_replay)\n",
    "#     while stepid_replay[reps] == 0:\n",
    "#         reps += 1\n",
    "\n",
    "#     rewards_single = torch.Tensor(rewards[::reps])\n",
    "#     values_single = torch.Tensor(values[::reps])\n",
    "\n",
    "#     end_of_epi = np.arange(len(rewards_single))[rewards_single != 0].astype(int)\n",
    "    \n",
    "#     # print(end_of_epi)\n",
    "#     # print(values_single)\n",
    "\n",
    "#     last_end = -1\n",
    "#     total_advs = []\n",
    "#     for end in end_of_epi:\n",
    "#         # calculate advantage_gae from index last_end+1 ~ end\\\n",
    "#         theta = rewards_single[last_end+1:end+1] - values_single[last_end+1:end+1]\n",
    "#         theta[:-1] += gamma * values_single[last_end+2:end+1]\n",
    "#         gl = gamma * gae_lambda\n",
    "#         advantages = torch.tensor([\n",
    "#             (theta[i:] * (gl ** torch.arange(end - last_end -i))).sum() for i in range(end - last_end)\n",
    "#         ])\n",
    "\n",
    "#         # print(f'last_end: {last_end} ~ end: {end} => {len(advantages)}')\n",
    "#         # print(advantages)\n",
    "#         total_advs.append(advantages)\n",
    "#         last_end = end\n",
    "#     ############################################################################\n",
    "    \n",
    "#     total_advs = torch.concat(total_advs)\n",
    "#     torch.repeat_interleave(total_advs, 2)\n",
    "\n",
    "#     # print(total_advs)\n",
    "#     # print(torch.repeat_interleave(total_advs, 2))\n",
    "#     # assert 0\n",
    "\n",
    "#     return total_advs"
   ]
  },
  {
   "cell_type": "code",
   "execution_count": null,
   "metadata": {},
   "outputs": [],
   "source": []
  },
  {
   "cell_type": "code",
   "execution_count": null,
   "metadata": {},
   "outputs": [],
   "source": []
  },
  {
   "cell_type": "code",
   "execution_count": null,
   "metadata": {},
   "outputs": [],
   "source": []
  },
  {
   "cell_type": "code",
   "execution_count": null,
   "metadata": {},
   "outputs": [],
   "source": []
  },
  {
   "cell_type": "code",
   "execution_count": null,
   "metadata": {},
   "outputs": [],
   "source": []
  },
  {
   "cell_type": "code",
   "execution_count": null,
   "metadata": {},
   "outputs": [],
   "source": []
  }
 ],
 "metadata": {
  "kernelspec": {
   "display_name": "Python 3 (ipykernel)",
   "language": "python",
   "name": "python3"
  },
  "language_info": {
   "codemirror_mode": {
    "name": "ipython",
    "version": 3
   },
   "file_extension": ".py",
   "mimetype": "text/x-python",
   "name": "python",
   "nbconvert_exporter": "python",
   "pygments_lexer": "ipython3",
   "version": "3.8.8"
  }
 },
 "nbformat": 4,
 "nbformat_minor": 1
}
